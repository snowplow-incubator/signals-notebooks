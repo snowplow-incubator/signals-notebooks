{
 "cells": [
  {
   "cell_type": "markdown",
   "metadata": {},
   "source": [
    "## Stream attributes using Signals\n",
    "\n",
    "This notebook creates a new attribute group using the SDK that will be computed using stream processing."
   ]
  },
  {
   "cell_type": "markdown",
   "metadata": {},
   "source": [
    "### Flow of data\n",
    "\n",
    "```mermaid\n",
    "flowchart LR\n",
    "    sp(Snowplow Pipeline)\n",
    "    stream[/Stream processing/]\n",
    "    signals(Signals)\n",
    "\n",
    "    sp --> stream\n",
    "    stream --> signals\n",
    "```\n",
    "\n",
    "---"
   ]
  },
  {
   "cell_type": "markdown",
   "metadata": {},
   "source": [
    "# Installation and setup"
   ]
  },
  {
   "cell_type": "code",
   "execution_count": null,
   "metadata": {},
   "outputs": [],
   "source": [
    "%pip install snowplow-signals"
   ]
  },
  {
   "cell_type": "code",
   "execution_count": null,
   "metadata": {},
   "outputs": [],
   "source": [
    "from snowplow_signals import Signals\n",
    "import os\n",
    "\n",
    "try:\n",
    "    from google.colab import userdata\n",
    "    sp_signals = Signals(\n",
    "            api_url=userdata.get('SP_API_URL'),\n",
    "            api_key=userdata.get('SP_API_KEY'),\n",
    "            api_key_id=userdata.get('SP_API_KEY_ID'),\n",
    "            org_id=userdata.get('SP_ORG_ID'),\n",
    "        )\n",
    "except ImportError:\n",
    "    from dotenv import load_dotenv\n",
    "    load_dotenv()\n",
    "    sp_signals = Signals(\n",
    "        api_url=os.environ['SP_API_URL'],\n",
    "        api_key=os.environ['SP_API_KEY'],\n",
    "        api_key_id=os.environ['SP_API_KEY_ID'],\n",
    "        org_id=os.environ['SP_ORG_ID'],\n",
    ")"
   ]
  },
  {
   "cell_type": "markdown",
   "metadata": {},
   "source": [
    "### Define a new attribute\n",
    "\n",
    "This block creates a single attribute definition including the logic how it should be calculated (it's filters and aggregation).\n",
    "\n",
    "The attribute calculates the number of add to cart ecommerce events."
   ]
  },
  {
   "cell_type": "code",
   "execution_count": null,
   "metadata": {},
   "outputs": [],
   "source": [
    "from snowplow_signals import Attribute, Criteria, Criterion, Event, EntityProperty, EventProperty\n",
    "\n",
    "products_added_to_cart = Attribute(\n",
    "    name=\"products_added_to_cart\",\n",
    "    type=\"string_list\",\n",
    "    events=[\n",
    "        Event(\n",
    "            vendor=\"com.snowplowanalytics.snowplow.ecommerce\",\n",
    "            name=\"snowplow_ecommerce_action\",\n",
    "            version=\"1-0-2\",\n",
    "        )\n",
    "    ],\n",
    "    aggregation=\"unique_list\",\n",
    "    property=EntityProperty(\n",
    "        vendor=\"com.snowplowanalytics.snowplow.ecommerce\",\n",
    "        name=\"product\",\n",
    "        major_version=1,\n",
    "        path=\"name\",\n",
    "    ),\n",
    "    criteria=Criteria(\n",
    "        all=[\n",
    "            Criterion.eq(\n",
    "                EventProperty(\n",
    "                    vendor=\"com.snowplowanalytics.snowplow.ecommerce\",\n",
    "                    name=\"snowplow_ecommerce_action\",\n",
    "                    major_version=1,\n",
    "                    path=\"type\",\n",
    "                ),\n",
    "                \"add_to_cart\",\n",
    "            ),\n",
    "        ],\n",
    "    ),\n",
    ")"
   ]
  },
  {
   "cell_type": "markdown",
   "metadata": {},
   "source": [
    "### Wrapping the attribute in an attribute group\n",
    "\n",
    "All attributes need to be included in attribute groups that can be considered as \"tables\" of attributes.\n",
    "\n",
    "Attribute groups are immutable and versioned."
   ]
  },
  {
   "cell_type": "code",
   "execution_count": null,
   "metadata": {},
   "outputs": [],
   "source": [
    "from snowplow_signals import StreamAttributeGroup, domain_sessionid\n",
    "\n",
    "attribute_group = StreamAttributeGroup(\n",
    "    name=\"my_ecommerce_attributes\",\n",
    "    version=1,\n",
    "    attribute_key=domain_sessionid,\n",
    "    attributes=[\n",
    "        products_added_to_cart,\n",
    "    ],\n",
    "    owner=\"user@company.com\",\n",
    ")"
   ]
  },
  {
   "cell_type": "markdown",
   "metadata": {},
   "source": [
    "### Applying the attribute group to Signals\n",
    "\n",
    "The following block pushes the attribute group definition to the Signals API and makes it available for processing."
   ]
  },
  {
   "cell_type": "code",
   "execution_count": null,
   "metadata": {},
   "outputs": [],
   "source": [
    "published = sp_signals.publish([attribute_group])\n",
    "print(f\"{len(published)} objects published\")"
   ]
  },
  {
   "cell_type": "markdown",
   "metadata": {},
   "source": [
    "### Retrieving data\n",
    "\n",
    "One can fetch the latest attribute values for a particular session from the attribute group as follow."
   ]
  },
  {
   "cell_type": "code",
   "execution_count": null,
   "metadata": {},
   "outputs": [],
   "source": [
    "response = attribute_group.get_attributes(\n",
    "    signals=sp_signals,\n",
    "    identifier=\"c5b91072-06b3-4aa7-a558-8e11dcc09993\",\n",
    ")\n",
    "\n",
    "response"
   ]
  }
 ],
 "metadata": {
  "kernelspec": {
   "display_name": "signals-notebooks-CrNlc6H1-py3.12",
   "language": "python",
   "name": "python3"
  },
  "language_info": {
   "codemirror_mode": {
    "name": "ipython",
    "version": 3
   },
   "file_extension": ".py",
   "mimetype": "text/x-python",
   "name": "python",
   "nbconvert_exporter": "python",
   "pygments_lexer": "ipython3",
   "version": "3.12.11"
  }
 },
 "nbformat": 4,
 "nbformat_minor": 2
}
