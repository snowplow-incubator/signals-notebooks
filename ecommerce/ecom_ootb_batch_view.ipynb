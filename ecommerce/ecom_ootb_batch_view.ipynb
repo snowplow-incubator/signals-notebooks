{
 "cells": [
  {
   "cell_type": "markdown",
   "metadata": {},
   "source": [
    "## Batch attributes from existing tables using Signals\n",
    "\n",
    "This notebook creates a new view using the SDK that will be computed using stream processing."
   ]
  },
  {
   "cell_type": "markdown",
   "metadata": {},
   "source": [
    "### Flow of data\n",
    "\n",
    "```mermaid\n",
    "flowchart LR\n",
    "    wh[(Warehouse)]\n",
    "    cron[/Materialization CRON job/]\n",
    "    signals(Signals)\n",
    "\n",
    "    wh --> cron\n",
    "    cron --> signals\n",
    "```\n",
    "\n",
    "---"
   ]
  },
  {
   "cell_type": "code",
   "execution_count": null,
   "metadata": {},
   "outputs": [],
   "source": [
    "from snowplow_signals import Signals\n",
    "from dotenv import load_dotenv\n",
    "import os\n",
    "\n",
    "load_dotenv()\n",
    "\n",
    "sp_signals = Signals(\n",
    "    api_url=os.environ[\"SNOWPLOW_API_URL\"],\n",
    "    api_key=os.environ[\"SNOWPLOW_API_KEY\"],\n",
    "    api_key_id=os.environ[\"SNOWPLOW_API_KEY_ID\"],\n",
    "    org_id=os.environ[\"SNOWPLOW_ORG_ID\"],\n",
    ")"
   ]
  },
  {
   "cell_type": "markdown",
   "metadata": {},
   "source": [
    "### Define a new data source\n",
    "\n",
    "Creates a data source with the source Snowflake table configuration."
   ]
  },
  {
   "cell_type": "code",
   "execution_count": 4,
   "metadata": {},
   "outputs": [],
   "source": [
    "from snowplow_signals import BatchSource\n",
    "\n",
    "data_source = BatchSource(\n",
    "    name=\"ecommerce_transaction_interactions_source\",\n",
    "    database=\"SNOWPLOW_DEV1\",\n",
    "    schema=\"SIGNALS\",\n",
    "    table=\"SNOWPLOW_ECOMMERCE_TRANSACTION_INTERACTIONS_FEATURES\",\n",
    "    timestamp_field=\"UPDATED_AT\",\n",
    ")"
   ]
  },
  {
   "cell_type": "markdown",
   "metadata": {},
   "source": [
    "### Create a view with the table fields\n",
    "\n",
    "Views define the attributes inside the data sources and the entity types they relate to."
   ]
  },
  {
   "cell_type": "code",
   "execution_count": 5,
   "metadata": {},
   "outputs": [],
   "source": [
    "from snowplow_signals import View, user_entity, Field\n",
    "\n",
    "view = View(\n",
    "    name=\"ecommerce_transaction_interactions_attributes\",\n",
    "    version=1,\n",
    "    entity=user_entity,\n",
    "    fields=[\n",
    "        Field(\n",
    "            name=\"TOTAL_TRANSACTIONS\",\n",
    "            type=\"int32\",\n",
    "        ),\n",
    "        Field(\n",
    "            name=\"TOTAL_REVENUE\",\n",
    "            type=\"int32\",\n",
    "        ),\n",
    "        Field(\n",
    "            name=\"AVG_TRANSACTION_REVENUE\",\n",
    "            type=\"int32\",\n",
    "        ),\n",
    "    ],\n",
    "    batch_source=data_source,\n",
    ")"
   ]
  },
  {
   "cell_type": "markdown",
   "metadata": {},
   "source": [
    "### Applying the data source and view to Signals\n",
    "\n",
    "The following block pushes the data source and view definition to the Signals API and makes it available for a background CRON job that incrementally materializes the data from the warehouse table to the online attribute store."
   ]
  },
  {
   "cell_type": "code",
   "execution_count": 6,
   "metadata": {},
   "outputs": [
    {
     "name": "stdout",
     "output_type": "stream",
     "text": [
      "1 objects applied\n"
     ]
    }
   ],
   "source": [
    "from snowplow_signals import Signals\n",
    "\n",
    "applied = sp_signals.apply([view])\n",
    "print(f\"{len(applied)} objects applied\")"
   ]
  },
  {
   "cell_type": "markdown",
   "metadata": {},
   "source": [
    "### Retrieving data\n",
    "\n",
    "One can fetch the latest attribute values for a particular user from the view as follow."
   ]
  },
  {
   "cell_type": "code",
   "execution_count": 8,
   "metadata": {},
   "outputs": [
    {
     "data": {
      "text/html": [
       "<div>\n",
       "<style scoped>\n",
       "    .dataframe tbody tr th:only-of-type {\n",
       "        vertical-align: middle;\n",
       "    }\n",
       "\n",
       "    .dataframe tbody tr th {\n",
       "        vertical-align: top;\n",
       "    }\n",
       "\n",
       "    .dataframe thead th {\n",
       "        text-align: right;\n",
       "    }\n",
       "</style>\n",
       "<table border=\"1\" class=\"dataframe\">\n",
       "  <thead>\n",
       "    <tr style=\"text-align: right;\">\n",
       "      <th></th>\n",
       "      <th>domain_userid</th>\n",
       "      <th>TOTAL_REVENUE</th>\n",
       "      <th>TOTAL_TRANSACTIONS</th>\n",
       "      <th>AVG_TRANSACTION_REVENUE</th>\n",
       "    </tr>\n",
       "  </thead>\n",
       "  <tbody>\n",
       "    <tr>\n",
       "      <th>0</th>\n",
       "      <td>9999999999999999999999999</td>\n",
       "      <td>None</td>\n",
       "      <td>None</td>\n",
       "      <td>None</td>\n",
       "    </tr>\n",
       "  </tbody>\n",
       "</table>\n",
       "</div>"
      ],
      "text/plain": [
       "               domain_userid TOTAL_REVENUE TOTAL_TRANSACTIONS  \\\n",
       "0  9999999999999999999999999          None               None   \n",
       "\n",
       "  AVG_TRANSACTION_REVENUE  \n",
       "0                    None  "
      ]
     },
     "execution_count": 8,
     "metadata": {},
     "output_type": "execute_result"
    }
   ],
   "source": [
    "response = sp_signals.get_online_attributes(\n",
    "    view,\n",
    "    identifiers=[\n",
    "        \"9999999999999999999999999\",\n",
    "    ],\n",
    ")\n",
    "\n",
    "response.to_dataframe()"
   ]
  }
 ],
 "metadata": {
  "kernelspec": {
   "display_name": ".venv",
   "language": "python",
   "name": "python3"
  },
  "language_info": {
   "codemirror_mode": {
    "name": "ipython",
    "version": 3
   },
   "file_extension": ".py",
   "mimetype": "text/x-python",
   "name": "python",
   "nbconvert_exporter": "python",
   "pygments_lexer": "ipython3",
   "version": "3.12.9"
  }
 },
 "nbformat": 4,
 "nbformat_minor": 2
}
