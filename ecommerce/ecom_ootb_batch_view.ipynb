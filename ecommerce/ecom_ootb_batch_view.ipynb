{
 "cells": [
  {
   "cell_type": "markdown",
   "metadata": {},
   "source": [
    "## Batch attributes from existing tables using Signals\n",
    "\n",
    "This notebook creates a new view using the SDK that will be computed using stream processing."
   ]
  },
  {
   "cell_type": "markdown",
   "metadata": {},
   "source": [
    "### Flow of data\n",
    "\n",
    "```mermaid\n",
    "flowchart LR\n",
    "    wh[(Warehouse)]\n",
    "    cron[/Materialization CRON job/]\n",
    "    signals(Signals)\n",
    "\n",
    "    wh --> cron\n",
    "    cron --> signals\n",
    "```\n",
    "\n",
    "---"
   ]
  },
  {
   "cell_type": "markdown",
   "metadata": {},
   "source": [
    "# Installation and setup"
   ]
  },
  {
   "cell_type": "code",
   "execution_count": null,
   "metadata": {},
   "outputs": [],
   "source": [
    "%pip install snowplow-signals"
   ]
  },
  {
   "cell_type": "code",
   "execution_count": null,
   "metadata": {},
   "outputs": [],
   "source": [
    "from snowplow_signals import Signals\n",
    "import os\n",
    "\n",
    "try:\n",
    "    from google.colab import userdata\n",
    "    sp_signals = Signals(\n",
    "            api_url=userdata.get('SP_API_URL'),\n",
    "            api_key=userdata.get('SP_API_KEY'),\n",
    "            api_key_id=userdata.get('SP_API_KEY_ID'),\n",
    "            org_id=userdata.get('SP_ORG_ID'),\n",
    "        )\n",
    "except ImportError:\n",
    "    from dotenv import load_dotenv\n",
    "    load_dotenv()\n",
    "    sp_signals = Signals(\n",
    "        api_url=os.environ['SP_API_URL'],\n",
    "        api_key=os.environ['SP_API_KEY'],\n",
    "        api_key_id=os.environ['SP_API_KEY_ID'],\n",
    "        org_id=os.environ['SP_ORG_ID'],\n",
    ")"
   ]
  },
  {
   "cell_type": "markdown",
   "metadata": {},
   "source": [
    "### Define a new data source\n",
    "\n",
    "Creates a data source with the source Snowflake table configuration."
   ]
  },
  {
   "cell_type": "code",
   "execution_count": null,
   "metadata": {},
   "outputs": [],
   "source": [
    "from snowplow_signals import BatchSource\n",
    "\n",
    "data_source = BatchSource(\n",
    "    name=\"ecommerce_transaction_interactions_source\",\n",
    "    database=\"SNOWPLOW_DEV1\",\n",
    "    schema=\"SIGNALS\",\n",
    "    table=\"SNOWPLOW_ECOMMERCE_TRANSACTION_INTERACTIONS_FEATURES\",\n",
    "    timestamp_field=\"UPDATED_AT\",\n",
    ")"
   ]
  },
  {
   "cell_type": "markdown",
   "metadata": {},
   "source": [
    "### Create a view with the table fields\n",
    "\n",
    "Views define the attributes inside the data sources and the entity types they relate to."
   ]
  },
  {
   "cell_type": "code",
   "execution_count": null,
   "metadata": {},
   "outputs": [],
   "source": [
    "from snowplow_signals import View, domain_userid, Field\n",
    "\n",
    "view = View(\n",
    "    name=\"ecommerce_transaction_interactions_attributes\",\n",
    "    version=1,\n",
    "    entity=domain_userid,\n",
    "    fields=[\n",
    "        Field(\n",
    "            name=\"TOTAL_TRANSACTIONS\",\n",
    "            type=\"int32\",\n",
    "        ),\n",
    "        Field(\n",
    "            name=\"TOTAL_REVENUE\",\n",
    "            type=\"int32\",\n",
    "        ),\n",
    "        Field(\n",
    "            name=\"AVG_TRANSACTION_REVENUE\",\n",
    "            type=\"int32\",\n",
    "        ),\n",
    "    ],\n",
    "    batch_source=data_source,\n",
    "    owner=\"user@company.com\",\n",
    ")"
   ]
  },
  {
   "cell_type": "markdown",
   "metadata": {},
   "source": [
    "### Applying the data source and view to Signals\n",
    "\n",
    "The following block pushes the data source and view definition to the Signals API and makes it available for a background CRON job that incrementally materializes the data from the warehouse table to the online attribute store."
   ]
  },
  {
   "cell_type": "code",
   "execution_count": null,
   "metadata": {},
   "outputs": [],
   "source": [
    "from snowplow_signals import Signals\n",
    "\n",
    "applied = sp_signals.apply([view])\n",
    "print(f\"{len(applied)} objects applied\")"
   ]
  },
  {
   "cell_type": "markdown",
   "metadata": {},
   "source": [
    "### Retrieving data\n",
    "\n",
    "One can fetch the latest attribute values for a particular user from the view as follow."
   ]
  },
  {
   "cell_type": "code",
   "execution_count": null,
   "metadata": {},
   "outputs": [],
   "source": [
    "response = view.get_attributes(\n",
    "    signals=sp_signals,\n",
    "    identifier=\"9999999999999999999999999\",\n",
    ")\n",
    "\n",
    "response"
   ]
  }
 ],
 "metadata": {
  "kernelspec": {
   "display_name": ".venv",
   "language": "python",
   "name": "python3"
  },
  "language_info": {
   "codemirror_mode": {
    "name": "ipython",
    "version": 3
   },
   "file_extension": ".py",
   "mimetype": "text/x-python",
   "name": "python",
   "nbconvert_exporter": "python",
   "pygments_lexer": "ipython3",
   "version": "3.12.9"
  }
 },
 "nbformat": 4,
 "nbformat_minor": 2
}
