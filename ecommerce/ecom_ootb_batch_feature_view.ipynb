{
 "cells": [
  {
   "cell_type": "markdown",
   "metadata": {},
   "source": [
    "## Batch features from existing tables using Signals\n",
    "\n",
    "This notebook creates a new feature view using the SDK that will be computed using stream processing."
   ]
  },
  {
   "cell_type": "markdown",
   "metadata": {},
   "source": [
    "### Flow of data\n",
    "\n",
    "```mermaid\n",
    "flowchart LR\n",
    "    wh[(Warehouse)]\n",
    "    cron[/Materialization CRON job/]\n",
    "    signals(Signals)\n",
    "\n",
    "    wh --> cron\n",
    "    cron --> signals\n",
    "```\n",
    "\n",
    "---"
   ]
  },
  {
   "cell_type": "markdown",
   "metadata": {},
   "source": [
    "### Define a new data source\n",
    "\n",
    "Creates a data source with the source Snowflake table configuration."
   ]
  },
  {
   "cell_type": "code",
   "execution_count": 1,
   "metadata": {},
   "outputs": [
    {
     "name": "stderr",
     "output_type": "stream",
     "text": [
      "/Users/matus/Library/Caches/pypoetry/virtualenvs/snowplow-signals-sdk-DQcgxUvJ-py3.13/lib/python3.13/site-packages/pydantic/_internal/_fields.py:192: UserWarning: Field name \"schema\" in \"DataSource\" shadows an attribute in parent \"BaseFeastObject\"\n",
      "  warnings.warn(\n"
     ]
    }
   ],
   "source": [
    "from snowplow_signals import DataSource\n",
    "\n",
    "data_source = DataSource(\n",
    "    name=\"ecommerce_transaction_interactions_source\",\n",
    "    database=\"SNOWPLOW_DEV1\",\n",
    "    schema=\"SIGNALS\",\n",
    "    table=\"SNOWPLOW_ECOMMERCE_TRANSACTION_INTERACTIONS_FEATURES\",\n",
    "    timestamp_field=\"UPDATED_AT\",\n",
    ")"
   ]
  },
  {
   "cell_type": "markdown",
   "metadata": {},
   "source": [
    "### Create a feature view with the table fields\n",
    "\n",
    "Feature views define the features inside the data sources and the entity types they relate to."
   ]
  },
  {
   "cell_type": "code",
   "execution_count": 2,
   "metadata": {},
   "outputs": [],
   "source": [
    "from snowplow_signals import FeatureView, user_entity, Field\n",
    "\n",
    "feature_view = FeatureView(\n",
    "    name=\"ecommerce_transaction_interactions_features\",\n",
    "    version=1,\n",
    "    entities=[\n",
    "        user_entity,\n",
    "    ],\n",
    "    fields=[\n",
    "        Field(\n",
    "            name=\"TOTAL_TRANSACTIONS\",\n",
    "            dtype=\"INT32\",\n",
    "        ),\n",
    "        Field(\n",
    "            name=\"TOTAL_REVENUE\",\n",
    "            dtype=\"INT32\",\n",
    "        ),\n",
    "        Field(\n",
    "            name=\"AVG_TRANSACTION_REVENUE\",\n",
    "            dtype=\"INT32\",\n",
    "        ),\n",
    "    ],\n",
    "    data_source=data_source,\n",
    ")"
   ]
  },
  {
   "cell_type": "markdown",
   "metadata": {},
   "source": [
    "### Applying the data source and feature view to Signals\n",
    "\n",
    "The following block pushes the data source and feature view definition to the Signals API and makes it available for a background CRON job that incrementally materializes the data from the warehouse table to the online feature store."
   ]
  },
  {
   "cell_type": "code",
   "execution_count": 3,
   "metadata": {},
   "outputs": [
    {
     "data": {
      "text/plain": [
       "ApplyResponse(status='applied')"
      ]
     },
     "execution_count": 3,
     "metadata": {},
     "output_type": "execute_result"
    }
   ],
   "source": [
    "from snowplow_signals import Signals\n",
    "\n",
    "sp_signals = Signals()\n",
    "sp_signals.apply([data_source, feature_view])"
   ]
  },
  {
   "cell_type": "markdown",
   "metadata": {},
   "source": [
    "### Retrieving data\n",
    "\n",
    "One can fetch the latest feature values for a particular user from the feature view as follow."
   ]
  },
  {
   "cell_type": "code",
   "execution_count": 4,
   "metadata": {},
   "outputs": [
    {
     "data": {
      "text/html": [
       "<div>\n",
       "<style scoped>\n",
       "    .dataframe tbody tr th:only-of-type {\n",
       "        vertical-align: middle;\n",
       "    }\n",
       "\n",
       "    .dataframe tbody tr th {\n",
       "        vertical-align: top;\n",
       "    }\n",
       "\n",
       "    .dataframe thead th {\n",
       "        text-align: right;\n",
       "    }\n",
       "</style>\n",
       "<table border=\"1\" class=\"dataframe\">\n",
       "  <thead>\n",
       "    <tr style=\"text-align: right;\">\n",
       "      <th></th>\n",
       "      <th>DOMAIN_USERID</th>\n",
       "      <th>TOTAL_TRANSACTIONS</th>\n",
       "      <th>AVG_TRANSACTION_REVENUE</th>\n",
       "      <th>TOTAL_REVENUE</th>\n",
       "    </tr>\n",
       "  </thead>\n",
       "  <tbody>\n",
       "    <tr>\n",
       "      <th>0</th>\n",
       "      <td>9999999999999999999999999</td>\n",
       "      <td>1</td>\n",
       "      <td>108</td>\n",
       "      <td>108</td>\n",
       "    </tr>\n",
       "  </tbody>\n",
       "</table>\n",
       "</div>"
      ],
      "text/plain": [
       "               DOMAIN_USERID  TOTAL_TRANSACTIONS  AVG_TRANSACTION_REVENUE  \\\n",
       "0  9999999999999999999999999                   1                      108   \n",
       "\n",
       "   TOTAL_REVENUE  \n",
       "0            108  "
      ]
     },
     "execution_count": 4,
     "metadata": {},
     "output_type": "execute_result"
    }
   ],
   "source": [
    "response = sp_signals.get_online_features(\n",
    "    features=[feature_view],\n",
    "    entity=\"9999999999999999999999999\",\n",
    "    entity_type_id=\"user\",\n",
    ")\n",
    "\n",
    "response.to_dataframe()"
   ]
  }
 ],
 "metadata": {
  "kernelspec": {
   "display_name": "snowplow-signals-sdk-DQcgxUvJ-py3.13",
   "language": "python",
   "name": "python3"
  },
  "language_info": {
   "codemirror_mode": {
    "name": "ipython",
    "version": 3
   },
   "file_extension": ".py",
   "mimetype": "text/x-python",
   "name": "python",
   "nbconvert_exporter": "python",
   "pygments_lexer": "ipython3",
   "version": "3.13.1"
  }
 },
 "nbformat": 4,
 "nbformat_minor": 2
}
