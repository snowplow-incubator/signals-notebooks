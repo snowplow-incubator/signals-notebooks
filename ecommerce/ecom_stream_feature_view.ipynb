{
 "cells": [
  {
   "cell_type": "markdown",
   "metadata": {},
   "source": [
    "## Stream features using Signals\n",
    "\n",
    "This notebook creates a new feature view using the SDK that will be computed using stream processing."
   ]
  },
  {
   "cell_type": "markdown",
   "metadata": {},
   "source": [
    "### Flow of data\n",
    "\n",
    "```mermaid\n",
    "flowchart LR\n",
    "    sp(Snowplow Pipeline)\n",
    "    stream[/Stream processing/]\n",
    "    signals(Signals)\n",
    "\n",
    "    sp --> stream\n",
    "    stream --> signals\n",
    "```\n",
    "\n",
    "---"
   ]
  },
  {
   "cell_type": "markdown",
   "metadata": {},
   "source": [
    "### Define a new feature\n",
    "\n",
    "This block creates a single feature definition including the logic how it should be calculated (it's filters and aggregation).\n",
    "\n",
    "The feature calculates the number of add to cart ecommerce events."
   ]
  },
  {
   "cell_type": "code",
   "execution_count": 90,
   "metadata": {},
   "outputs": [],
   "source": [
    "from snowplow_signals import (\n",
    "    Feature,\n",
    "    FilterCombinator,\n",
    "    FilterCondition,\n",
    ")\n",
    "\n",
    "products_added_to_cart_feature = Feature(\n",
    "    name=\"products_added_to_cart\",\n",
    "    dtype=\"STRING_LIST\",\n",
    "    events=[\n",
    "        \"iglu:com.snowplowanalytics.snowplow.ecommerce/snowplow_ecommerce_action/jsonschema/1-0-2\"\n",
    "    ],\n",
    "    type=\"unique_list\",\n",
    "    property=\"contexts_com_snowplowanalytics_snowplow_ecommerce_product_1[0].name\",\n",
    "    scope=\"session\",\n",
    "    filter=FilterCombinator(\n",
    "        combinator=\"and\",\n",
    "        condition=[\n",
    "            FilterCondition(\n",
    "                property=\"unstruct_event_com_snowplowanalytics_snowplow_ecommerce_snowplow_ecommerce_action_1:type\",\n",
    "                operator=\"equals\",\n",
    "                value=\"add_to_cart\",\n",
    "            ),\n",
    "        ],\n",
    "    ),\n",
    ")"
   ]
  },
  {
   "cell_type": "markdown",
   "metadata": {},
   "source": [
    "### Wrapping the feature in a feature view\n",
    "\n",
    "All features need to be included in feature views that can be considered as \"tables\" of features.\n",
    "\n",
    "Feature views are immutable and versioned."
   ]
  },
  {
   "cell_type": "code",
   "execution_count": 91,
   "metadata": {},
   "outputs": [],
   "source": [
    "from snowplow_signals import FeatureView, session_entity\n",
    "\n",
    "feature_view = FeatureView(\n",
    "    name=\"my_ecommerce_features\",\n",
    "    version=1,\n",
    "    entities=[\n",
    "        session_entity,\n",
    "    ],\n",
    "    features=[\n",
    "        products_added_to_cart_feature,\n",
    "    ],\n",
    ")"
   ]
  },
  {
   "cell_type": "markdown",
   "metadata": {},
   "source": [
    "### Applying the feature view to Signals\n",
    "\n",
    "The following block pushes the feature view definition to the Signals API and makes it available for processing."
   ]
  },
  {
   "cell_type": "code",
   "execution_count": 92,
   "metadata": {},
   "outputs": [
    {
     "data": {
      "text/plain": [
       "ApplyResponse(status='applied')"
      ]
     },
     "execution_count": 92,
     "metadata": {},
     "output_type": "execute_result"
    }
   ],
   "source": [
    "from snowplow_signals import Signals\n",
    "\n",
    "sp_signals = Signals(api_url='https://0fcfdf97-6447-4208-8cd0-39f82befbd07.svc.snplow.net')\n",
    "sp_signals.apply([feature_view])"
   ]
  },
  {
   "cell_type": "markdown",
   "metadata": {},
   "source": [
    "## Track Snowplow events to test the feature view\n",
    "\n",
    "Track Snowplow events to test that the feature view is producing data."
   ]
  },
  {
   "cell_type": "code",
   "execution_count": 79,
   "metadata": {},
   "outputs": [
    {
     "name": "stderr",
     "output_type": "stream",
     "text": [
      "INFO:snowplow_tracker.emitters:Emitter initialized with endpoint https://aws-sandbox-dev1.collector.snplow.net/com.snowplowanalytics.snowplow/tp2\n",
      "INFO:snowplow_tracker.snowplow:Tracker with namespace: 'ns3' added to Snowplow\n"
     ]
    }
   ],
   "source": [
    "from snowplow_tracker import Snowplow\n",
    "\n",
    "tracker = Snowplow.create_tracker(\n",
    "    namespace=\"ns3\",\n",
    "    endpoint=\"https://aws-sandbox-dev1.collector.snplow.net\",\n",
    "    app_id=\"ai_demo\",\n",
    ")"
   ]
  },
  {
   "cell_type": "code",
   "execution_count": null,
   "metadata": {},
   "outputs": [
    {
     "name": "stderr",
     "output_type": "stream",
     "text": [
      "INFO:snowplow_tracker.emitters:Attempting to send 1 events\n",
      "INFO:snowplow_tracker.emitters:Sending POST request to https://aws-sandbox-dev1.collector.snplow.net/com.snowplowanalytics.snowplow/tp2...\n",
      "INFO:snowplow_tracker.emitters:Finished synchronous flush\n"
     ]
    },
    {
     "data": {
      "text/plain": [
       "<snowplow_tracker.tracker.Tracker at 0x107fa91d0>"
      ]
     },
     "execution_count": 84,
     "metadata": {},
     "output_type": "execute_result"
    }
   ],
   "source": [
    "from snowplow_tracker import SelfDescribing, SelfDescribingJson, Subject\n",
    "\n",
    "subject = Subject()\n",
    "subject.set_domain_user_id(\"2718de92-3a9d-4ad7-a8da-76a7b0f5c3db\")\n",
    "subject.set_domain_session_id(\"30ec7e22-04cd-4dca-9162-b26c3a6001c1\")\n",
    "\n",
    "event = SelfDescribing(\n",
    "    SelfDescribingJson(\n",
    "        \"iglu:com.snowplowanalytics.snowplow.ecommerce/snowplow_ecommerce_action/jsonschema/1-0-2\",\n",
    "        {\"type\": \"add_to_cart\"},\n",
    "    ),\n",
    "    subject\n",
    ")\n",
    "\n",
    "event.context.append(\n",
    "    SelfDescribingJson(\n",
    "        \"iglu:com.snowplowanalytics.snowplow.ecommerce/product/jsonschema/1-0-0\",\n",
    "        {\n",
    "            \"id\": \"12345\",\n",
    "            \"name\": \"shoe\",\n",
    "            \"category\": \"shoes\",\n",
    "            \"price\": 100.0,\n",
    "            \"quantity\": 1,\n",
    "            \"currency\": \"USD\",\n",
    "        },\n",
    "    )\n",
    ")\n",
    "\n",
    "event.context.append(\n",
    "    SelfDescribingJson(\n",
    "        \"iglu:com.snowplowanalytics.snowplow.ecommerce/cart/jsonschema/1-0-0\",\n",
    "        {\n",
    "            \"total_value\": 212,\n",
    "            \"currency\": \"USD\",\n",
    "        },\n",
    "    )\n",
    ")\n",
    "\n",
    "tracker.track(event)\n",
    "tracker.flush()"
   ]
  },
  {
   "cell_type": "markdown",
   "metadata": {},
   "source": [
    "### Retrieving data\n",
    "\n",
    "One can fetch the latest feature values for a particular session from the feature view as follow."
   ]
  },
  {
   "cell_type": "code",
   "execution_count": 94,
   "metadata": {},
   "outputs": [
    {
     "data": {
      "text/html": [
       "<div>\n",
       "<style scoped>\n",
       "    .dataframe tbody tr th:only-of-type {\n",
       "        vertical-align: middle;\n",
       "    }\n",
       "\n",
       "    .dataframe tbody tr th {\n",
       "        vertical-align: top;\n",
       "    }\n",
       "\n",
       "    .dataframe thead th {\n",
       "        text-align: right;\n",
       "    }\n",
       "</style>\n",
       "<table border=\"1\" class=\"dataframe\">\n",
       "  <thead>\n",
       "    <tr style=\"text-align: right;\">\n",
       "      <th></th>\n",
       "      <th>domain_sessionid</th>\n",
       "      <th>products_added_to_cart</th>\n",
       "    </tr>\n",
       "  </thead>\n",
       "  <tbody>\n",
       "    <tr>\n",
       "      <th>0</th>\n",
       "      <td>30ec7e22-04cd-4dca-9162-b26c3a6001c1</td>\n",
       "      <td>[shoe]</td>\n",
       "    </tr>\n",
       "  </tbody>\n",
       "</table>\n",
       "</div>"
      ],
      "text/plain": [
       "                       domain_sessionid products_added_to_cart\n",
       "0  30ec7e22-04cd-4dca-9162-b26c3a6001c1                 [shoe]"
      ]
     },
     "execution_count": 94,
     "metadata": {},
     "output_type": "execute_result"
    }
   ],
   "source": [
    "response = sp_signals.get_online_features(\n",
    "    features=[feature_view],\n",
    "    entity=\"30ec7e22-04cd-4dca-9162-b26c3a6001c1\",\n",
    "    entity_type_id=\"session\",\n",
    ")\n",
    "\n",
    "response.to_dataframe()"
   ]
  }
 ],
 "metadata": {
  "kernelspec": {
   "display_name": "signals-notebooks-ISVnSzaa-py3.13",
   "language": "python",
   "name": "python3"
  },
  "language_info": {
   "codemirror_mode": {
    "name": "ipython",
    "version": 3
   },
   "file_extension": ".py",
   "mimetype": "text/x-python",
   "name": "python",
   "nbconvert_exporter": "python",
   "pygments_lexer": "ipython3",
   "version": "3.13.2"
  }
 },
 "nbformat": 4,
 "nbformat_minor": 2
}
