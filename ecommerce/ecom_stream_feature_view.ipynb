{
 "cells": [
  {
   "cell_type": "markdown",
   "metadata": {},
   "source": [
    "## Stream features using Signals\n",
    "\n",
    "This notebook creates a new feature view using the SDK that will be computed using stream processing."
   ]
  },
  {
   "cell_type": "markdown",
   "metadata": {},
   "source": [
    "### Flow of data\n",
    "\n",
    "```mermaid\n",
    "flowchart LR\n",
    "    sp(Snowplow Pipeline)\n",
    "    stream[/Stream processing/]\n",
    "    signals(Signals)\n",
    "\n",
    "    sp --> stream\n",
    "    stream --> signals\n",
    "```\n",
    "\n",
    "---"
   ]
  },
  {
   "cell_type": "code",
   "execution_count": null,
   "metadata": {},
   "outputs": [],
   "source": [
    "from snowplow_signals import Signals\n",
    "\n",
    "sp_signals = Signals(api_url='https://0fcfdf97-6447-4208-8cd0-39f82befbd07.svc.snplow.net')"
   ]
  },
  {
   "cell_type": "markdown",
   "metadata": {},
   "source": [
    "### Define a new feature\n",
    "\n",
    "This block creates a single feature definition including the logic how it should be calculated (it's filters and aggregation).\n",
    "\n",
    "The feature calculates the number of add to cart ecommerce events."
   ]
  },
  {
   "cell_type": "code",
   "execution_count": null,
   "metadata": {},
   "outputs": [],
   "source": [
    "from snowplow_signals import (\n",
    "    Feature,\n",
    "    FilterCombinator,\n",
    "    FilterCondition,\n",
    ")\n",
    "\n",
    "products_added_to_cart_feature = Feature(\n",
    "    name=\"products_added_to_cart\",\n",
    "    dtype=\"STRING_LIST\",\n",
    "    events=[\n",
    "        \"iglu:com.snowplowanalytics.snowplow.ecommerce/snowplow_ecommerce_action/jsonschema/1-0-2\"\n",
    "    ],\n",
    "    type=\"unique_list\",\n",
    "    property=\"contexts_com_snowplowanalytics_snowplow_ecommerce_product_1[0].name\",\n",
    "    scope=\"session\",\n",
    "    filter=FilterCombinator(\n",
    "        combinator=\"and\",\n",
    "        condition=[\n",
    "            FilterCondition(\n",
    "                property=\"unstruct_event_com_snowplowanalytics_snowplow_ecommerce_snowplow_ecommerce_action_1:type\",\n",
    "                operator=\"equals\",\n",
    "                value=\"add_to_cart\",\n",
    "            ),\n",
    "        ],\n",
    "    ),\n",
    ")"
   ]
  },
  {
   "cell_type": "markdown",
   "metadata": {},
   "source": [
    "### Wrapping the feature in a feature view\n",
    "\n",
    "All features need to be included in feature views that can be considered as \"tables\" of features.\n",
    "\n",
    "Feature views are immutable and versioned."
   ]
  },
  {
   "cell_type": "code",
   "execution_count": null,
   "metadata": {},
   "outputs": [],
   "source": [
    "from snowplow_signals import FeatureView, session_entity\n",
    "\n",
    "feature_view = FeatureView(\n",
    "    name=\"my_ecommerce_features\",\n",
    "    version=1,\n",
    "    entities=[\n",
    "        session_entity,\n",
    "    ],\n",
    "    features=[\n",
    "        products_added_to_cart_feature,\n",
    "    ],\n",
    ")"
   ]
  },
  {
   "cell_type": "markdown",
   "metadata": {},
   "source": [
    "### Testing the feature view\n",
    "\n",
    "Execute the feature view on the last one hour of data from the atomic events table to verify that it works correctly."
   ]
  },
  {
   "cell_type": "code",
   "execution_count": null,
   "metadata": {},
   "outputs": [],
   "source": [
    "data = sp_signals.test(\n",
    "    feature_view=feature_view,\n",
    "    app_ids=[\"website\"],\n",
    ")\n",
    "data"
   ]
  },
  {
   "cell_type": "markdown",
   "metadata": {},
   "source": [
    "### Applying the feature view to Signals\n",
    "\n",
    "The following block pushes the feature view definition to the Signals API and makes it available for processing."
   ]
  },
  {
   "cell_type": "code",
   "execution_count": null,
   "metadata": {},
   "outputs": [],
   "source": [
    "sp_signals.apply([feature_view])"
   ]
  },
  {
   "cell_type": "markdown",
   "metadata": {},
   "source": [
    "### Track Snowplow events to test the feature view\n",
    "\n",
    "Track Snowplow events to test that the feature view is producing data."
   ]
  },
  {
   "cell_type": "code",
   "execution_count": null,
   "metadata": {},
   "outputs": [],
   "source": [
    "from snowplow_tracker import Snowplow\n",
    "\n",
    "tracker = Snowplow.create_tracker(\n",
    "    namespace=\"ns3\",\n",
    "    endpoint=\"https://aws-sandbox-dev1.collector.snplow.net\",\n",
    "    app_id=\"ai_demo\",\n",
    ")"
   ]
  },
  {
   "cell_type": "code",
   "execution_count": null,
   "metadata": {},
   "outputs": [],
   "source": [
    "from snowplow_tracker import SelfDescribing, SelfDescribingJson, Subject\n",
    "\n",
    "subject = Subject()\n",
    "subject.set_domain_user_id(\"2718de92-3a9d-4ad7-a8da-76a7b0f5c3db\")\n",
    "subject.set_domain_session_id(\"30ec7e22-04cd-4dca-9162-b26c3a6001c1\")\n",
    "\n",
    "event = SelfDescribing(\n",
    "    SelfDescribingJson(\n",
    "        \"iglu:com.snowplowanalytics.snowplow.ecommerce/snowplow_ecommerce_action/jsonschema/1-0-2\",\n",
    "        {\"type\": \"add_to_cart\"},\n",
    "    ),\n",
    "    subject\n",
    ")\n",
    "\n",
    "event.context.append(\n",
    "    SelfDescribingJson(\n",
    "        \"iglu:com.snowplowanalytics.snowplow.ecommerce/product/jsonschema/1-0-0\",\n",
    "        {\n",
    "            \"id\": \"12345\",\n",
    "            \"name\": \"shoe\",\n",
    "            \"category\": \"shoes\",\n",
    "            \"price\": 100.0,\n",
    "            \"quantity\": 1,\n",
    "            \"currency\": \"USD\",\n",
    "        },\n",
    "    )\n",
    ")\n",
    "\n",
    "event.context.append(\n",
    "    SelfDescribingJson(\n",
    "        \"iglu:com.snowplowanalytics.snowplow.ecommerce/cart/jsonschema/1-0-0\",\n",
    "        {\n",
    "            \"total_value\": 212,\n",
    "            \"currency\": \"USD\",\n",
    "        },\n",
    "    )\n",
    ")\n",
    "\n",
    "tracker.track(event)\n",
    "tracker.flush()"
   ]
  },
  {
   "cell_type": "markdown",
   "metadata": {},
   "source": [
    "### Retrieving data\n",
    "\n",
    "One can fetch the latest feature values for a particular session from the feature view as follow."
   ]
  },
  {
   "cell_type": "code",
   "execution_count": null,
   "metadata": {},
   "outputs": [],
   "source": [
    "response = sp_signals.get_online_features(\n",
    "    features=[feature_view],\n",
    "    entity=\"30ec7e22-04cd-4dca-9162-b26c3a6001c1\",\n",
    "    entity_type_id=\"session\",\n",
    ")\n",
    "\n",
    "response.to_dataframe()"
   ]
  }
 ],
 "metadata": {
  "kernelspec": {
   "display_name": "signals-notebooks-ISVnSzaa-py3.13",
   "language": "python",
   "name": "python3"
  },
  "language_info": {
   "codemirror_mode": {
    "name": "ipython",
    "version": 3
   },
   "file_extension": ".py",
   "mimetype": "text/x-python",
   "name": "python",
   "nbconvert_exporter": "python",
   "pygments_lexer": "ipython3",
   "version": "3.13.2"
  }
 },
 "nbformat": 4,
 "nbformat_minor": 2
}
