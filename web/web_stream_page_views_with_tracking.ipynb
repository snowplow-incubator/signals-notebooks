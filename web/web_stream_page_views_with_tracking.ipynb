{
 "cells": [
  {
   "cell_type": "markdown",
   "metadata": {},
   "source": [
    "## Demo of processing user attributes in Signals including tracking Snowplow events\n",
    "\n",
    "This notebook creates a new view using the SDK and also tracks Snowplow events to test that the attributes are processed in stream."
   ]
  },
  {
   "cell_type": "markdown",
   "metadata": {},
   "source": [
    "### Flow of data\n",
    "\n",
    "```mermaid\n",
    "flowchart LR\n",
    "    sp(Snowplow Pipeline)\n",
    "    stream[/Stream processing/]\n",
    "    signals(Signals)\n",
    "\n",
    "    sp --> stream\n",
    "    stream --> signals\n",
    "```\n",
    "\n",
    "---"
   ]
  },
  {
   "cell_type": "code",
   "execution_count": null,
   "metadata": {},
   "outputs": [],
   "source": [
    "from snowplow_signals import Signals\n",
    "import os\n",
    "\n",
    "try:\n",
    "    from google.colab import userdata\n",
    "    sp_signals = Signals(\n",
    "            api_url=userdata.get('SP_API_URL'),\n",
    "            api_key=userdata.get('SP_API_KEY'),\n",
    "            api_key_id=userdata.get('SP_API_KEY_ID'),\n",
    "            org_id=userdata.get('SP_ORG_ID'),\n",
    "        )\n",
    "except ImportError:\n",
    "    from dotenv import load_dotenv\n",
    "    load_dotenv()\n",
    "    sp_signals = Signals(\n",
    "        api_url=os.environ['SP_API_URL'],\n",
    "        api_key=os.environ['SP_API_KEY'],\n",
    "        api_key_id=os.environ['SP_API_KEY_ID'],\n",
    "        org_id=os.environ['SP_ORG_ID'],\n",
    ")"
   ]
  },
  {
   "cell_type": "markdown",
   "metadata": {},
   "source": [
    "### Define a new attribute\n",
    "\n",
    "This block creates a single attribute definition including the logic how it should be calculated (it's filters and aggregation).\n",
    "\n",
    "The attribute calculates the number of add to cart ecommerce events."
   ]
  },
  {
   "cell_type": "code",
   "execution_count": null,
   "metadata": {},
   "outputs": [],
   "source": [
    "from snowplow_signals import (\n",
    "    Attribute,\n",
    "    Event,\n",
    ")\n",
    "\n",
    "count_page_views = Attribute(\n",
    "    name=\"count_page_views\",\n",
    "    type=\"int32\",\n",
    "    events=[\n",
    "        Event(name=\"page_view\")\n",
    "    ],\n",
    "    aggregation=\"counter\",\n",
    ")"
   ]
  },
  {
   "cell_type": "markdown",
   "metadata": {},
   "source": [
    "### Wrapping the attribute in a view\n",
    "\n",
    "All attributes need to be included in views that can be considered as \"tables\" of attributes.\n",
    "\n",
    "Views are immutable and versioned."
   ]
  },
  {
   "cell_type": "code",
   "execution_count": null,
   "metadata": {},
   "outputs": [],
   "source": [
    "from snowplow_signals import View, user_entity\n",
    "\n",
    "view = View(\n",
    "    name=\"page_view_attributes\",\n",
    "    version=1,\n",
    "    entity=user_entity,\n",
    "    attributes=[\n",
    "        count_page_views,\n",
    "    ],\n",
    ")"
   ]
  },
  {
   "cell_type": "markdown",
   "metadata": {},
   "source": [
    "### Testing the view\n",
    "\n",
    "Execute the view on the last one hour of data from the atomic events table to verify that it works correctly."
   ]
  },
  {
   "cell_type": "code",
   "execution_count": null,
   "metadata": {},
   "outputs": [],
   "source": [
    "data = sp_signals.test(\n",
    "    view=view,\n",
    "    app_ids=[\"website\"],\n",
    ")\n",
    "data"
   ]
  },
  {
   "cell_type": "markdown",
   "metadata": {},
   "source": [
    "### Applying the view to Signals\n",
    "\n",
    "The following block pushes the view definition to the Signals API and makes it available for processing."
   ]
  },
  {
   "cell_type": "code",
   "execution_count": null,
   "metadata": {},
   "outputs": [],
   "source": [
    "applied = sp_signals.apply([view])\n",
    "print(f\"{len(applied)} objects applied\")"
   ]
  },
  {
   "cell_type": "markdown",
   "metadata": {},
   "source": [
    "### Track Snowplow events to test the attributes\n",
    "\n",
    "Track Snowplow events to test that the view is producing data.\n",
    "\n",
    "#### 1. Create Snowplow tracker"
   ]
  },
  {
   "cell_type": "code",
   "execution_count": null,
   "metadata": {},
   "outputs": [],
   "source": [
    "from snowplow_tracker import Snowplow\n",
    "\n",
    "tracker = Snowplow.create_tracker(\n",
    "    namespace=\"ns1\",\n",
    "    endpoint=\"http://localhost:8080\", # TODO: choose your collector endpoint\n",
    "    app_id=\"ai_demo\", # TODO: choose app id that your Signals streaming engine is listening to\n",
    ")"
   ]
  },
  {
   "cell_type": "markdown",
   "metadata": {},
   "source": [
    "#### 2. Track events"
   ]
  },
  {
   "cell_type": "code",
   "execution_count": null,
   "metadata": {},
   "outputs": [],
   "source": [
    "from snowplow_tracker import Subject, PageView\n",
    "\n",
    "duid = \"1e4a8d2a-4b3b-4b6d-8b1e-6f4f4f4f4f4f\"\n",
    "sid = \"5f3f7a2b-0e4b-4b6d-8b1e-6f4f4f4f4f4f\"\n",
    "\n",
    "subject = Subject()\n",
    "subject.set_domain_user_id(duid)\n",
    "subject.set_domain_session_id(sid)\n",
    "\n",
    "event = PageView(page_url=\"https://www.example.com\", page_title=\"Example page\", event_subject=subject)\n",
    "\n",
    "tracker.track(event)\n",
    "tracker.flush()"
   ]
  },
  {
   "cell_type": "markdown",
   "metadata": {},
   "source": [
    "### Retrieving data\n",
    "\n",
    "One can fetch the latest attribute values for a particular session from the view as follow."
   ]
  },
  {
   "cell_type": "code",
   "execution_count": null,
   "metadata": {},
   "outputs": [],
   "source": [
    "response = sp_signals.get_online_attributes(\n",
    "    view,\n",
    "    duid,\n",
    ")\n",
    "\n",
    "response.to_dataframe()"
   ]
  }
 ],
 "metadata": {
  "kernelspec": {
   "display_name": "signals-notebooks-CrNlc6H1-py3.12",
   "language": "python",
   "name": "python3"
  },
  "language_info": {
   "codemirror_mode": {
    "name": "ipython",
    "version": 3
   },
   "file_extension": ".py",
   "mimetype": "text/x-python",
   "name": "python",
   "nbconvert_exporter": "python",
   "pygments_lexer": "ipython3",
   "version": "3.12.9"
  }
 },
 "nbformat": 4,
 "nbformat_minor": 2
}
