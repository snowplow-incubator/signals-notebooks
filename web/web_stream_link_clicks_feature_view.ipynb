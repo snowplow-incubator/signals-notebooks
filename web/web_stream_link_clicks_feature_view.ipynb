{
 "cells": [
  {
   "cell_type": "markdown",
   "metadata": {},
   "source": [
    "## Stream features from Web events using Signals\n",
    "\n",
    "This notebook creates a new feature view using the SDK, tests it on the atomic events table and applies."
   ]
  },
  {
   "cell_type": "markdown",
   "metadata": {},
   "source": [
    "### Flow of data\n",
    "\n",
    "```mermaid\n",
    "flowchart LR\n",
    "    sp(Snowplow Pipeline)\n",
    "    stream[/Stream processing/]\n",
    "    signals(Signals)\n",
    "\n",
    "    sp --> stream\n",
    "    stream --> signals\n",
    "```\n",
    "\n",
    "---"
   ]
  },
  {
   "cell_type": "code",
   "execution_count": null,
   "metadata": {},
   "outputs": [],
   "source": [
    "from snowplow_signals import Signals\n",
    "\n",
    "sp_signals = Signals(api_url='https://0fcfdf97-6447-4208-8cd0-39f82befbd07.svc.snplow.net')"
   ]
  },
  {
   "cell_type": "markdown",
   "metadata": {},
   "source": [
    "### Define a new feature\n",
    "\n",
    "This block creates a single feature definition including the logic how it should be calculated (it's filters and aggregation).\n",
    "\n",
    "The feature calculates the number of add to cart ecommerce events."
   ]
  },
  {
   "cell_type": "code",
   "execution_count": null,
   "metadata": {},
   "outputs": [],
   "source": [
    "from snowplow_signals import (\n",
    "    Feature,\n",
    "    FilterCombinator,\n",
    "    FilterCondition,\n",
    ")\n",
    "\n",
    "clicked_links_on_homepage_feature = Feature(\n",
    "    name=\"clicked_links\",\n",
    "    scope=\"session\",\n",
    "    dtype=\"STRING_LIST\",\n",
    "    events=[\n",
    "        \"iglu:com.snowplowanalytics.snowplow/link_click/jsonschema/1-0-1\"\n",
    "    ],\n",
    "    type=\"unique_list\",\n",
    "    property=\"unstruct_event_com_snowplowanalytics_snowplow_link_click_1:targetUrl\",\n",
    "    filter=FilterCombinator(\n",
    "        combinator=\"and\",\n",
    "        condition=[\n",
    "            FilterCondition(\n",
    "                property=\"page_urlpath\",\n",
    "                operator=\"equals\",\n",
    "                value=\"/\",\n",
    "            ),\n",
    "        ],\n",
    "    ),\n",
    ")"
   ]
  },
  {
   "cell_type": "markdown",
   "metadata": {},
   "source": [
    "### Wrapping the feature in a feature view\n",
    "\n",
    "All features need to be included in feature views that can be considered as \"tables\" of features.\n",
    "\n",
    "Feature views are immutable and versioned."
   ]
  },
  {
   "cell_type": "code",
   "execution_count": null,
   "metadata": {},
   "outputs": [],
   "source": [
    "from snowplow_signals import FeatureView, session_entity\n",
    "\n",
    "feature_view = FeatureView(\n",
    "    name=\"link_clicks\",\n",
    "    version=1,\n",
    "    entities=[\n",
    "        session_entity,\n",
    "    ],\n",
    "    features=[\n",
    "        clicked_links_on_homepage_feature\n",
    "    ],\n",
    ")"
   ]
  },
  {
   "cell_type": "markdown",
   "metadata": {},
   "source": [
    "### Testing the feature view\n",
    "\n",
    "Execute the feature view on the last one hour of data from the atomic events table to verify that it works correctly."
   ]
  },
  {
   "cell_type": "code",
   "execution_count": null,
   "metadata": {},
   "outputs": [],
   "source": [
    "data = sp_signals.test(\n",
    "    feature_view=feature_view,\n",
    "    app_ids=[\"website\"],\n",
    ")\n",
    "data"
   ]
  },
  {
   "cell_type": "markdown",
   "metadata": {},
   "source": [
    "### Applying the feature view to Signals\n",
    "\n",
    "The following block pushes the feature view definition to the Signals API and makes it available for processing."
   ]
  },
  {
   "cell_type": "code",
   "execution_count": null,
   "metadata": {},
   "outputs": [],
   "source": [
    "sp_signals.apply([feature_view])"
   ]
  }
 ],
 "metadata": {
  "kernelspec": {
   "display_name": "signals-notebooks-ISVnSzaa-py3.13",
   "language": "python",
   "name": "python3"
  },
  "language_info": {
   "codemirror_mode": {
    "name": "ipython",
    "version": 3
   },
   "file_extension": ".py",
   "mimetype": "text/x-python",
   "name": "python",
   "nbconvert_exporter": "python",
   "pygments_lexer": "ipython3",
   "version": "3.13.2"
  }
 },
 "nbformat": 4,
 "nbformat_minor": 2
}
