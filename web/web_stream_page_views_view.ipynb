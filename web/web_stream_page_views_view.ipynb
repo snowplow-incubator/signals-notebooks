{
 "cells": [
  {
   "cell_type": "markdown",
   "metadata": {},
   "source": [
    "## Stream attributes from Web events using Signals\n",
    "\n",
    "This notebook creates a new attribute group using the SDK, tests it on the atomic events table and applies."
   ]
  },
  {
   "cell_type": "markdown",
   "metadata": {},
   "source": [
    "### Flow of data\n",
    "\n",
    "```mermaid\n",
    "flowchart LR\n",
    "    sp(Snowplow Pipeline)\n",
    "    stream[/Stream processing/]\n",
    "    signals(Signals)\n",
    "\n",
    "    sp --> stream\n",
    "    stream --> signals\n",
    "```\n",
    "\n",
    "---"
   ]
  },
  {
   "cell_type": "markdown",
   "metadata": {},
   "source": [
    "# Installation and setup"
   ]
  },
  {
   "cell_type": "code",
   "execution_count": null,
   "metadata": {},
   "outputs": [],
   "source": [
    "%pip install snowplow-signals"
   ]
  },
  {
   "cell_type": "code",
   "execution_count": null,
   "metadata": {},
   "outputs": [],
   "source": [
    "from snowplow_signals import Signals\n",
    "import os\n",
    "\n",
    "try:\n",
    "    from google.colab import userdata\n",
    "    sp_signals = Signals(\n",
    "            api_url=userdata.get('SP_API_URL'),\n",
    "            api_key=userdata.get('SP_API_KEY'),\n",
    "            api_key_id=userdata.get('SP_API_KEY_ID'),\n",
    "            org_id=userdata.get('SP_ORG_ID'),\n",
    "        )\n",
    "except ImportError:\n",
    "    sp_signals = Signals(\n",
    "        api_url=os.environ['SP_API_URL'],\n",
    "        api_key=os.environ['SP_API_KEY'],\n",
    "        api_key_id=os.environ['SP_API_KEY_ID'],\n",
    "        org_id=os.environ['SP_ORG_ID'],\n",
    ")"
   ]
  },
  {
   "cell_type": "markdown",
   "metadata": {},
   "source": [
    "### Define a new attribute\n",
    "\n",
    "This block creates a single attribute definition including the logic how it should be calculated (it's filters and aggregation).\n",
    "\n",
    "The attribute calculates the number of add to cart ecommerce events."
   ]
  },
  {
   "cell_type": "code",
   "execution_count": null,
   "metadata": {},
   "outputs": [],
   "source": [
    "from snowplow_signals import (\n",
    "    Attribute,\n",
    "    Event,\n",
    "    AtomicProperty,\n",
    ")\n",
    "\n",
    "count_page_pings = Attribute(\n",
    "    name=\"count_page_pings\",\n",
    "    type=\"int32\",\n",
    "    events=[\n",
    "        Event(\n",
    "            vendor=\"com.snowplowanalytics.snowplow\",\n",
    "            name=\"page_ping\",\n",
    "            version=\"1-0-0\",\n",
    "        )\n",
    "    ],\n",
    "    aggregation=\"counter\",\n",
    ")\n",
    "\n",
    "visited_pages = Attribute(\n",
    "    name=\"visited_pages\",\n",
    "    type=\"string_list\",\n",
    "    events=[\n",
    "        Event(\n",
    "            vendor=\"com.snowplowanalytics.snowplow\",\n",
    "            name=\"page_view\",\n",
    "            version=\"1-0-0\",\n",
    "        )\n",
    "    ],\n",
    "    aggregation=\"unique_list\",\n",
    "    property=AtomicProperty(\n",
    "        name=\"page_title\",\n",
    "    ),\n",
    ")"
   ]
  },
  {
   "cell_type": "markdown",
   "metadata": {},
   "source": [
    "### Wrapping the attribute in an attribute group\n",
    "\n",
    "All attributes need to be included in attribute groups that can be considered as \"tables\" of attributes.\n",
    "\n",
    "Attribute groups are immutable and versioned."
   ]
  },
  {
   "cell_type": "code",
   "execution_count": null,
   "metadata": {},
   "outputs": [],
   "source": [
    "from snowplow_signals import StreamAttributeGroup, session_attribute_key\n",
    "\n",
    "attribute_group = StreamAttributeGroup(\n",
    "    name=\"my_web_attributes\",\n",
    "    version=1,\n",
    "    attribute_key=session_attribute_key,\n",
    "    attributes=[\n",
    "        count_page_pings,\n",
    "        visited_pages,\n",
    "    ],\n",
    ")"
   ]
  },
  {
   "cell_type": "markdown",
   "metadata": {},
   "source": [
    "### Testing the attribute group\n",
    "\n",
    "Execute the attribute group on the last one hour of data from the atomic events table to verify that it works correctly."
   ]
  },
  {
   "cell_type": "code",
   "execution_count": null,
   "metadata": {},
   "outputs": [],
   "source": [
    "data = sp_signals.test(\n",
    "    attribute_group=attribute_group,\n",
    "    app_ids=[\"website\"],\n",
    ")\n",
    "data"
   ]
  },
  {
   "cell_type": "markdown",
   "metadata": {},
   "source": [
    "### Applying the attribute group to Signals\n",
    "\n",
    "The following block pushes the attribute group definition to the Signals API and makes it available for processing."
   ]
  },
  {
   "cell_type": "code",
   "execution_count": null,
   "metadata": {},
   "outputs": [],
   "source": [
    "published = sp_signals.publish([attribute_group])\n",
    "print(f\"{len(published)} objects published\")"
   ]
  }
 ],
 "metadata": {
  "kernelspec": {
   "display_name": "signals-notebooks-CrNlc6H1-py3.12",
   "language": "python",
   "name": "python3"
  },
  "language_info": {
   "codemirror_mode": {
    "name": "ipython",
    "version": 3
   },
   "file_extension": ".py",
   "mimetype": "text/x-python",
   "name": "python",
   "nbconvert_exporter": "python",
   "pygments_lexer": "ipython3",
   "version": "3.12.11"
  }
 },
 "nbformat": 4,
 "nbformat_minor": 2
}
