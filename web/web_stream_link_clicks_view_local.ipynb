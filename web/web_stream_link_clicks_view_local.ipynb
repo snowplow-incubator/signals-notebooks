{
 "cells": [
  {
   "cell_type": "markdown",
   "metadata": {},
   "source": [
    "## Stream attributes from Web events using Signals\n",
    "\n",
    "This notebook creates a new view using the SDK, tests it on the atomic events table and applies."
   ]
  },
  {
   "cell_type": "markdown",
   "metadata": {},
   "source": [
    "### Flow of data\n",
    "\n",
    "```mermaid\n",
    "flowchart LR\n",
    "    sp(Snowplow Pipeline)\n",
    "    stream[/Stream processing/]\n",
    "    signals(Signals)\n",
    "\n",
    "    sp --> stream\n",
    "    stream --> signals\n",
    "```\n",
    "\n",
    "---"
   ]
  },
  {
   "cell_type": "code",
   "execution_count": 6,
   "metadata": {},
   "outputs": [],
   "source": [
    "from snowplow_signals import Signals\n",
    "from dotenv import load_dotenv\n",
    "import os\n",
    "\n",
    "load_dotenv()\n",
    "# You will need valid BDP credentials (API key, API key ID and org ID) for this to work.\n",
    "# Instructions on how to generate these here: https://docs.snowplow.io/docs/account-management/managing-console-api-authentication/#credentials-ui-v3\n",
    "sp_signals = Signals(\n",
    "    api_url=\"http://localhost:8008\", # Local Signals API endpoint\n",
    "    api_key=os.environ[\"SNOWPLOW_API_KEY\"],\n",
    "    api_key_id=os.environ[\"SNOWPLOW_API_KEY_ID\"],\n",
    "    org_id=os.environ[\"SNOWPLOW_ORG_ID\"],\n",
    ")"
   ]
  },
  {
   "cell_type": "markdown",
   "metadata": {},
   "source": [
    "### Define a new attribute\n",
    "\n",
    "This block creates a single attribute definition including the logic how it should be calculated (it's filters and aggregation).\n",
    "\n",
    "The attribute calculates the number of add to cart ecommerce events."
   ]
  },
  {
   "cell_type": "code",
   "execution_count": 24,
   "metadata": {},
   "outputs": [],
   "source": [
    "from snowplow_signals import (\n",
    "    Attribute,\n",
    "    Criteria,\n",
    "    Criterion,\n",
    "    Event,\n",
    ")\n",
    "\n",
    "link_click_count = Attribute(\n",
    "    name=\"link_click_count\",\n",
    "    type=\"int32\",\n",
    "    events=[\n",
    "        Event(\n",
    "            vendor=\"com.snowplowanalytics.snowplow\",\n",
    "            name=\"link_click\",\n",
    "            version=\"1-0-1\",\n",
    "        )\n",
    "    ],\n",
    "    aggregation=\"counter\",\n",
    "    property=\"unstruct_event_com_snowplowanalytics_snowplow_link_click_1:targetUrl\",\n",
    "    criteria=Criteria(\n",
    "        all=[\n",
    "            Criterion(\n",
    "                property=\"event_name\",\n",
    "                operator=\"=\",\n",
    "                value=\"link_click\",\n",
    "            ),\n",
    "        ],\n",
    "    ),\n",
    ")\n",
    "\n",
    "# a dummy event is defined for this attribute as we only use this for storing an intervention value so we don't want signals to write a value to it\n",
    "intervention_feature = Attribute(\n",
    "    name=\"intervention_example\",\n",
    "    type=\"string\",\n",
    "    events=[\n",
    "        Event(\n",
    "            vendor=\"doesnotexist.com\",\n",
    "            name=\"anything\",\n",
    "            version=\"1-0-0\"\n",
    "        )\n",
    "    ],\n",
    "    criteria=Criteria(\n",
    "        all=[\n",
    "            Criterion(\n",
    "                property=\"page_urlpath\",\n",
    "                operator=\"=\",\n",
    "                value=\"foobar\",\n",
    "            ),\n",
    "        ]\n",
    "    ),\n",
    "    aggregation=\"first\"\n",
    ")"
   ]
  },
  {
   "cell_type": "markdown",
   "metadata": {},
   "source": [
    "### Wrapping the attribute in a view\n",
    "\n",
    "All attributes need to be included in views that can be considered as \"tables\" of attributes.\n",
    "\n",
    "Views are immutable and versioned."
   ]
  },
  {
   "cell_type": "code",
   "execution_count": 25,
   "metadata": {},
   "outputs": [],
   "source": [
    "from snowplow_signals import View, session_entity, Service\n",
    "\n",
    "view = View(\n",
    "    name=\"demo_attributes\",\n",
    "    version=2,\n",
    "    entity=session_entity,\n",
    "    attributes=[\n",
    "        link_click_count, # a count of link click events\n",
    "        intervention_feature # stores the result of our intervention once triggered\n",
    "    ],\n",
    "    online=True\n",
    ")\n",
    "\n",
    "service = Service(\n",
    "    name=\"demo_service\",\n",
    "    description='Service for demoing signals and inteventions',\n",
    "    views=[view]\n",
    ")"
   ]
  },
  {
   "cell_type": "markdown",
   "metadata": {},
   "source": [
    "### Applying the view to Signals\n",
    "\n",
    "The following block pushes the view definition to the Signals API and makes it available for processing."
   ]
  },
  {
   "cell_type": "code",
   "execution_count": 26,
   "metadata": {},
   "outputs": [
    {
     "name": "stdout",
     "output_type": "stream",
     "text": [
      "2 objects applied\n"
     ]
    }
   ],
   "source": [
    "# Ensure Snowplow Local and Personalization API are running otherwise this will fail\n",
    "applied = sp_signals.apply([view, service])\n",
    "print(f\"{len(applied)} objects applied\")\n",
    "# If successful you should see two objects applied (one for the view and one for the service)."
   ]
  },
  {
   "cell_type": "code",
   "execution_count": 90,
   "metadata": {},
   "outputs": [
    {
     "name": "stderr",
     "output_type": "stream",
     "text": [
      "INFO:snowplow_tracker.emitters:Emitter initialized with endpoint http://localhost:8080/com.snowplowanalytics.snowplow/tp2\n",
      "INFO:snowplow_tracker.snowplow:Tracker with namespace: 'ns11747189129.248855' added to Snowplow\n",
      "INFO:snowplow_tracker.emitters:Attempting to send 1 events\n",
      "INFO:snowplow_tracker.emitters:Sending POST request to http://localhost:8080/com.snowplowanalytics.snowplow/tp2...\n",
      "INFO:snowplow_tracker.emitters:Finished synchronous flush\n"
     ]
    },
    {
     "data": {
      "text/plain": [
       "<snowplow_tracker.tracker.Tracker at 0x11f0ea270>"
      ]
     },
     "execution_count": 90,
     "metadata": {},
     "output_type": "execute_result"
    }
   ],
   "source": [
    "# Send in an example link click event\n",
    "from snowplow_tracker import Snowplow\n",
    "from snowplow_tracker import Subject, PageView, SelfDescribing, SelfDescribingJson\n",
    "from time import time\n",
    "\n",
    "tracker = Snowplow.create_tracker(\n",
    "    namespace=\"ns1\"+str(time()),\n",
    "    endpoint=\"http://localhost:8080\", # TODO: Snowplow Local collector\n",
    "    app_id=\"ai_demo\", # TODO: choose app id that your Signals streaming engine is listening to\n",
    ")\n",
    "\n",
    "\n",
    "duid = \"1e4a8d2a-4b3b-4b6d-8b1e-6f4f4f4f4f4f\"\n",
    "sid = \"5f3f7a2b-0e4b-4b6d-8b1e-6f4f4f4f4f4f\"\n",
    "\n",
    "subject = Subject()\n",
    "subject.set_domain_user_id(duid)\n",
    "subject.set_domain_session_id(sid)\n",
    "\n",
    "\n",
    "link_click = SelfDescribing(\n",
    "    SelfDescribingJson(\n",
    "        \"iglu:com.snowplowanalytics.snowplow/link_click/jsonschema/1-0-1\",\n",
    "        {\n",
    "            \"targetUrl\": \"http://test.net/123\",\n",
    "            \"elementContent\": \"Snowplow\"\n",
    "        },\n",
    "    ),\n",
    "    event_subject=subject\n",
    ")\n",
    "\n",
    "link_click.payload.add(\"url\", \"https://snowplow.io/\")\n",
    "\n",
    "tracker.track(link_click)\n",
    "tracker.flush()"
   ]
  },
  {
   "cell_type": "code",
   "execution_count": 91,
   "metadata": {},
   "outputs": [
    {
     "name": "stdout",
     "output_type": "stream",
     "text": [
      "{'domain_sessionid': ['5f3f7a2b-0e4b-4b6d-8b1e-6f4f4f4f4f4f'], 'link_click_count': [6], 'intervention_example': ['bob']}\n"
     ]
    }
   ],
   "source": [
    "# wait ~10-30 seconds after the event and check\n",
    "import requests\n",
    "r = requests.post(\n",
    "    'http://localhost:6566/get-online-features', # Personalization API must be up. Auth not required!\n",
    "    json = {\n",
    "        'entities': {\n",
    "            'session': [sid]\n",
    "        },\n",
    "        'feature_service': 'demo_service'\n",
    "    }\n",
    ")\n",
    "# print out a prettier version\n",
    "features = {}\n",
    "feature_names = r.json()['metadata']['feature_names']\n",
    "feature_values = r.json()['results']\n",
    "for i, feature in enumerate(feature_names):\n",
    "    features[feature] = feature_values[i]['values']\n",
    "print(features)"
   ]
  },
  {
   "cell_type": "code",
   "execution_count": null,
   "metadata": {},
   "outputs": [
    {
     "name": "stdout",
     "output_type": "stream",
     "text": [
      "200\n",
      "{'name': 'link_clicker5', 'version': 1, 'method': 'set_attribute', 'target_agents': None, 'script_uri': None, 'context': {'attribute': 'demo_attributes_2:intervention_example', 'value': 'hello world', 'clear_history': True}, 'description': None, 'tags': None, 'owner': None, 'criteria': {'attribute': 'demo_attributes_2:link_click_count', 'operator': '>=', 'value': 6}}\n"
     ]
    }
   ],
   "source": [
    "# the value of link_click_count should now be 1 and intervention_example should be blank!\n",
    "# now let's create an intervention using the API\n",
    "# this intervention will set an attribute for `intervention_example` if the intervention is triggered\n",
    "intervention = {\n",
    "    'name': 'link_clicker5',\n",
    "    'version': 1,\n",
    "    'method': 'set_attribute',\n",
    "    'context': {\n",
    "        'attribute': 'demo_attributes:intervention_example',\n",
    "        'value': 'hello world',\n",
    "        'clear_history': True\n",
    "    },\n",
    "    'criteria': {'operator': '>=', 'value': 6, 'attribute': 'demo_attributes:link_click_count'},\n",
    "}\n",
    "\n",
    "r = requests.post(\n",
    "    'http://localhost:8008/api/v1/registry/interventions',\n",
    "    json=intervention,\n",
    "    headers={\n",
    "        'Content-Type': 'application/json',\n",
    "        'Authorization': 'Bearer NA' # Auth not required\n",
    "    }\n",
    ")\n",
    "print(r.status_code)\n",
    "print(r.json())"
   ]
  },
  {
   "cell_type": "code",
   "execution_count": 96,
   "metadata": {},
   "outputs": [
    {
     "name": "stdout",
     "output_type": "stream",
     "text": [
      "New intervention received:\n",
      "Context: {\n",
      "  \"attribute\": \"string\",\n",
      "  \"value\": \"string\",\n",
      "  \"path\": \"string\",\n",
      "  \"clear_history\": true\n",
      "}\n"
     ]
    },
    {
     "ename": "KeyboardInterrupt",
     "evalue": "",
     "output_type": "error",
     "traceback": [
      "\u001b[31m---------------------------------------------------------------------------\u001b[39m",
      "\u001b[31mKeyboardInterrupt\u001b[39m                         Traceback (most recent call last)",
      "\u001b[36mCell\u001b[39m\u001b[36m \u001b[39m\u001b[32mIn[96]\u001b[39m\u001b[32m, line 15\u001b[39m\n\u001b[32m     13\u001b[39m response.raise_for_status()\n\u001b[32m     14\u001b[39m buffer = \u001b[33m'\u001b[39m\u001b[33m'\u001b[39m\n\u001b[32m---> \u001b[39m\u001b[32m15\u001b[39m \u001b[43m\u001b[49m\u001b[38;5;28;43;01mfor\u001b[39;49;00m\u001b[43m \u001b[49m\u001b[43mline\u001b[49m\u001b[43m \u001b[49m\u001b[38;5;129;43;01min\u001b[39;49;00m\u001b[43m \u001b[49m\u001b[43mresponse\u001b[49m\u001b[43m.\u001b[49m\u001b[43miter_lines\u001b[49m\u001b[43m(\u001b[49m\u001b[43mdecode_unicode\u001b[49m\u001b[43m=\u001b[49m\u001b[38;5;28;43;01mTrue\u001b[39;49;00m\u001b[43m)\u001b[49m\u001b[43m:\u001b[49m\n\u001b[32m     16\u001b[39m \u001b[43m    \u001b[49m\u001b[38;5;28;43;01mif\u001b[39;49;00m\u001b[43m \u001b[49m\u001b[43mline\u001b[49m\u001b[43m \u001b[49m\u001b[38;5;129;43;01mis\u001b[39;49;00m\u001b[43m \u001b[49m\u001b[38;5;28;43;01mNone\u001b[39;49;00m\u001b[43m:\u001b[49m\n\u001b[32m     17\u001b[39m \u001b[43m        \u001b[49m\u001b[38;5;28;43;01mcontinue\u001b[39;49;00m\n",
      "\u001b[36mFile \u001b[39m\u001b[32m~/Library/Caches/pypoetry/virtualenvs/signals-notebooks-5jc5WEI8-py3.12/lib/python3.12/site-packages/requests/models.py:869\u001b[39m, in \u001b[36mResponse.iter_lines\u001b[39m\u001b[34m(self, chunk_size, decode_unicode, delimiter)\u001b[39m\n\u001b[32m    860\u001b[39m \u001b[38;5;250m\u001b[39m\u001b[33;03m\"\"\"Iterates over the response data, one line at a time.  When\u001b[39;00m\n\u001b[32m    861\u001b[39m \u001b[33;03mstream=True is set on the request, this avoids reading the\u001b[39;00m\n\u001b[32m    862\u001b[39m \u001b[33;03mcontent at once into memory for large responses.\u001b[39;00m\n\u001b[32m    863\u001b[39m \n\u001b[32m    864\u001b[39m \u001b[33;03m.. note:: This method is not reentrant safe.\u001b[39;00m\n\u001b[32m    865\u001b[39m \u001b[33;03m\"\"\"\u001b[39;00m\n\u001b[32m    867\u001b[39m pending = \u001b[38;5;28;01mNone\u001b[39;00m\n\u001b[32m--> \u001b[39m\u001b[32m869\u001b[39m \u001b[43m\u001b[49m\u001b[38;5;28;43;01mfor\u001b[39;49;00m\u001b[43m \u001b[49m\u001b[43mchunk\u001b[49m\u001b[43m \u001b[49m\u001b[38;5;129;43;01min\u001b[39;49;00m\u001b[43m \u001b[49m\u001b[38;5;28;43mself\u001b[39;49m\u001b[43m.\u001b[49m\u001b[43miter_content\u001b[49m\u001b[43m(\u001b[49m\n\u001b[32m    870\u001b[39m \u001b[43m    \u001b[49m\u001b[43mchunk_size\u001b[49m\u001b[43m=\u001b[49m\u001b[43mchunk_size\u001b[49m\u001b[43m,\u001b[49m\u001b[43m \u001b[49m\u001b[43mdecode_unicode\u001b[49m\u001b[43m=\u001b[49m\u001b[43mdecode_unicode\u001b[49m\n\u001b[32m    871\u001b[39m \u001b[43m\u001b[49m\u001b[43m)\u001b[49m\u001b[43m:\u001b[49m\n\u001b[32m    872\u001b[39m \u001b[43m    \u001b[49m\u001b[38;5;28;43;01mif\u001b[39;49;00m\u001b[43m \u001b[49m\u001b[43mpending\u001b[49m\u001b[43m \u001b[49m\u001b[38;5;129;43;01mis\u001b[39;49;00m\u001b[43m \u001b[49m\u001b[38;5;129;43;01mnot\u001b[39;49;00m\u001b[43m \u001b[49m\u001b[38;5;28;43;01mNone\u001b[39;49;00m\u001b[43m:\u001b[49m\n\u001b[32m    873\u001b[39m \u001b[43m        \u001b[49m\u001b[43mchunk\u001b[49m\u001b[43m \u001b[49m\u001b[43m=\u001b[49m\u001b[43m \u001b[49m\u001b[43mpending\u001b[49m\u001b[43m \u001b[49m\u001b[43m+\u001b[49m\u001b[43m \u001b[49m\u001b[43mchunk\u001b[49m\n",
      "\u001b[36mFile \u001b[39m\u001b[32m~/Library/Caches/pypoetry/virtualenvs/signals-notebooks-5jc5WEI8-py3.12/lib/python3.12/site-packages/requests/utils.py:572\u001b[39m, in \u001b[36mstream_decode_response_unicode\u001b[39m\u001b[34m(iterator, r)\u001b[39m\n\u001b[32m    569\u001b[39m     \u001b[38;5;28;01mreturn\u001b[39;00m\n\u001b[32m    571\u001b[39m decoder = codecs.getincrementaldecoder(r.encoding)(errors=\u001b[33m\"\u001b[39m\u001b[33mreplace\u001b[39m\u001b[33m\"\u001b[39m)\n\u001b[32m--> \u001b[39m\u001b[32m572\u001b[39m \u001b[43m\u001b[49m\u001b[38;5;28;43;01mfor\u001b[39;49;00m\u001b[43m \u001b[49m\u001b[43mchunk\u001b[49m\u001b[43m \u001b[49m\u001b[38;5;129;43;01min\u001b[39;49;00m\u001b[43m \u001b[49m\u001b[43miterator\u001b[49m\u001b[43m:\u001b[49m\n\u001b[32m    573\u001b[39m \u001b[43m    \u001b[49m\u001b[43mrv\u001b[49m\u001b[43m \u001b[49m\u001b[43m=\u001b[49m\u001b[43m \u001b[49m\u001b[43mdecoder\u001b[49m\u001b[43m.\u001b[49m\u001b[43mdecode\u001b[49m\u001b[43m(\u001b[49m\u001b[43mchunk\u001b[49m\u001b[43m)\u001b[49m\n\u001b[32m    574\u001b[39m \u001b[43m    \u001b[49m\u001b[38;5;28;43;01mif\u001b[39;49;00m\u001b[43m \u001b[49m\u001b[43mrv\u001b[49m\u001b[43m:\u001b[49m\n",
      "\u001b[36mFile \u001b[39m\u001b[32m~/Library/Caches/pypoetry/virtualenvs/signals-notebooks-5jc5WEI8-py3.12/lib/python3.12/site-packages/requests/models.py:820\u001b[39m, in \u001b[36mResponse.iter_content.<locals>.generate\u001b[39m\u001b[34m()\u001b[39m\n\u001b[32m    818\u001b[39m \u001b[38;5;28;01mif\u001b[39;00m \u001b[38;5;28mhasattr\u001b[39m(\u001b[38;5;28mself\u001b[39m.raw, \u001b[33m\"\u001b[39m\u001b[33mstream\u001b[39m\u001b[33m\"\u001b[39m):\n\u001b[32m    819\u001b[39m     \u001b[38;5;28;01mtry\u001b[39;00m:\n\u001b[32m--> \u001b[39m\u001b[32m820\u001b[39m         \u001b[38;5;28;01myield from\u001b[39;00m \u001b[38;5;28mself\u001b[39m.raw.stream(chunk_size, decode_content=\u001b[38;5;28;01mTrue\u001b[39;00m)\n\u001b[32m    821\u001b[39m     \u001b[38;5;28;01mexcept\u001b[39;00m ProtocolError \u001b[38;5;28;01mas\u001b[39;00m e:\n\u001b[32m    822\u001b[39m         \u001b[38;5;28;01mraise\u001b[39;00m ChunkedEncodingError(e)\n",
      "\u001b[36mFile \u001b[39m\u001b[32m~/Library/Caches/pypoetry/virtualenvs/signals-notebooks-5jc5WEI8-py3.12/lib/python3.12/site-packages/urllib3/response.py:1063\u001b[39m, in \u001b[36mHTTPResponse.stream\u001b[39m\u001b[34m(self, amt, decode_content)\u001b[39m\n\u001b[32m   1047\u001b[39m \u001b[38;5;250m\u001b[39m\u001b[33;03m\"\"\"\u001b[39;00m\n\u001b[32m   1048\u001b[39m \u001b[33;03mA generator wrapper for the read() method. A call will block until\u001b[39;00m\n\u001b[32m   1049\u001b[39m \u001b[33;03m``amt`` bytes have been read from the connection or until the\u001b[39;00m\n\u001b[32m   (...)\u001b[39m\u001b[32m   1060\u001b[39m \u001b[33;03m    'content-encoding' header.\u001b[39;00m\n\u001b[32m   1061\u001b[39m \u001b[33;03m\"\"\"\u001b[39;00m\n\u001b[32m   1062\u001b[39m \u001b[38;5;28;01mif\u001b[39;00m \u001b[38;5;28mself\u001b[39m.chunked \u001b[38;5;129;01mand\u001b[39;00m \u001b[38;5;28mself\u001b[39m.supports_chunked_reads():\n\u001b[32m-> \u001b[39m\u001b[32m1063\u001b[39m     \u001b[38;5;28;01myield from\u001b[39;00m \u001b[38;5;28mself\u001b[39m.read_chunked(amt, decode_content=decode_content)\n\u001b[32m   1064\u001b[39m \u001b[38;5;28;01melse\u001b[39;00m:\n\u001b[32m   1065\u001b[39m     \u001b[38;5;28;01mwhile\u001b[39;00m \u001b[38;5;129;01mnot\u001b[39;00m is_fp_closed(\u001b[38;5;28mself\u001b[39m._fp) \u001b[38;5;129;01mor\u001b[39;00m \u001b[38;5;28mlen\u001b[39m(\u001b[38;5;28mself\u001b[39m._decoded_buffer) > \u001b[32m0\u001b[39m:\n",
      "\u001b[36mFile \u001b[39m\u001b[32m~/Library/Caches/pypoetry/virtualenvs/signals-notebooks-5jc5WEI8-py3.12/lib/python3.12/site-packages/urllib3/response.py:1219\u001b[39m, in \u001b[36mHTTPResponse.read_chunked\u001b[39m\u001b[34m(self, amt, decode_content)\u001b[39m\n\u001b[32m   1216\u001b[39m     amt = \u001b[38;5;28;01mNone\u001b[39;00m\n\u001b[32m   1218\u001b[39m \u001b[38;5;28;01mwhile\u001b[39;00m \u001b[38;5;28;01mTrue\u001b[39;00m:\n\u001b[32m-> \u001b[39m\u001b[32m1219\u001b[39m     \u001b[38;5;28;43mself\u001b[39;49m\u001b[43m.\u001b[49m\u001b[43m_update_chunk_length\u001b[49m\u001b[43m(\u001b[49m\u001b[43m)\u001b[49m\n\u001b[32m   1220\u001b[39m     \u001b[38;5;28;01mif\u001b[39;00m \u001b[38;5;28mself\u001b[39m.chunk_left == \u001b[32m0\u001b[39m:\n\u001b[32m   1221\u001b[39m         \u001b[38;5;28;01mbreak\u001b[39;00m\n",
      "\u001b[36mFile \u001b[39m\u001b[32m~/Library/Caches/pypoetry/virtualenvs/signals-notebooks-5jc5WEI8-py3.12/lib/python3.12/site-packages/urllib3/response.py:1138\u001b[39m, in \u001b[36mHTTPResponse._update_chunk_length\u001b[39m\u001b[34m(self)\u001b[39m\n\u001b[32m   1136\u001b[39m \u001b[38;5;28;01mif\u001b[39;00m \u001b[38;5;28mself\u001b[39m.chunk_left \u001b[38;5;129;01mis\u001b[39;00m \u001b[38;5;129;01mnot\u001b[39;00m \u001b[38;5;28;01mNone\u001b[39;00m:\n\u001b[32m   1137\u001b[39m     \u001b[38;5;28;01mreturn\u001b[39;00m \u001b[38;5;28;01mNone\u001b[39;00m\n\u001b[32m-> \u001b[39m\u001b[32m1138\u001b[39m line = \u001b[38;5;28;43mself\u001b[39;49m\u001b[43m.\u001b[49m\u001b[43m_fp\u001b[49m\u001b[43m.\u001b[49m\u001b[43mfp\u001b[49m\u001b[43m.\u001b[49m\u001b[43mreadline\u001b[49m\u001b[43m(\u001b[49m\u001b[43m)\u001b[49m  \u001b[38;5;66;03m# type: ignore[union-attr]\u001b[39;00m\n\u001b[32m   1139\u001b[39m line = line.split(\u001b[33mb\u001b[39m\u001b[33m\"\u001b[39m\u001b[33m;\u001b[39m\u001b[33m\"\u001b[39m, \u001b[32m1\u001b[39m)[\u001b[32m0\u001b[39m]\n\u001b[32m   1140\u001b[39m \u001b[38;5;28;01mtry\u001b[39;00m:\n",
      "\u001b[36mFile \u001b[39m\u001b[32m~/miniconda3/lib/python3.12/socket.py:707\u001b[39m, in \u001b[36mSocketIO.readinto\u001b[39m\u001b[34m(self, b)\u001b[39m\n\u001b[32m    705\u001b[39m \u001b[38;5;28;01mwhile\u001b[39;00m \u001b[38;5;28;01mTrue\u001b[39;00m:\n\u001b[32m    706\u001b[39m     \u001b[38;5;28;01mtry\u001b[39;00m:\n\u001b[32m--> \u001b[39m\u001b[32m707\u001b[39m         \u001b[38;5;28;01mreturn\u001b[39;00m \u001b[38;5;28;43mself\u001b[39;49m\u001b[43m.\u001b[49m\u001b[43m_sock\u001b[49m\u001b[43m.\u001b[49m\u001b[43mrecv_into\u001b[49m\u001b[43m(\u001b[49m\u001b[43mb\u001b[49m\u001b[43m)\u001b[49m\n\u001b[32m    708\u001b[39m     \u001b[38;5;28;01mexcept\u001b[39;00m timeout:\n\u001b[32m    709\u001b[39m         \u001b[38;5;28mself\u001b[39m._timeout_occurred = \u001b[38;5;28;01mTrue\u001b[39;00m\n",
      "\u001b[31mKeyboardInterrupt\u001b[39m: "
     ]
    }
   ],
   "source": [
    "# subscribe to interventions (in a notebook)\n",
    "# this would ordinarily be done in some front end code, so this is for demonstration purposes only.\n",
    "# interrupt this cell (with the stop / interrupt button) to stop listening for interventions\n",
    "import json\n",
    "\n",
    "def format_intervention(payload):\n",
    "    print('New intervention received:')\n",
    "    payload_json = json.loads(payload)\n",
    "    print('Context:', json.dumps(payload_json['context'], indent=2))\n",
    "\n",
    "\n",
    "with requests.get('http://localhost:8008/api/v1/interventions', stream=True, params={'session': sid}) as response:\n",
    "    response.raise_for_status()\n",
    "    buffer = ''\n",
    "    for line in response.iter_lines(decode_unicode=True):\n",
    "        if line is None:\n",
    "            continue\n",
    "        if line == '':\n",
    "            if buffer.startswith(\"data:\"):\n",
    "                data = buffer[len(\"data:\"):].strip()\n",
    "                format_intervention(data)\n",
    "            buffer = ''\n",
    "        else:\n",
    "            buffer += line + '\\n'"
   ]
  },
  {
   "cell_type": "code",
   "execution_count": null,
   "metadata": {},
   "outputs": [],
   "source": []
  }
 ],
 "metadata": {
  "kernelspec": {
   "display_name": "signals-notebooks-5jc5WEI8-py3.12",
   "language": "python",
   "name": "python3"
  },
  "language_info": {
   "codemirror_mode": {
    "name": "ipython",
    "version": 3
   },
   "file_extension": ".py",
   "mimetype": "text/x-python",
   "name": "python",
   "nbconvert_exporter": "python",
   "pygments_lexer": "ipython3",
   "version": "3.12.2"
  }
 },
 "nbformat": 4,
 "nbformat_minor": 2
}
