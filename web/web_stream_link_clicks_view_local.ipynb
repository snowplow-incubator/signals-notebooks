{
 "cells": [
  {
   "cell_type": "markdown",
   "metadata": {},
   "source": [
    "## Stream attributes from Web events using Signals\n",
    "\n",
    "This notebook creates a new view using the SDK, tests it on the atomic events table and applies."
   ]
  },
  {
   "cell_type": "markdown",
   "metadata": {},
   "source": [
    "### Flow of data\n",
    "\n",
    "```mermaid\n",
    "flowchart LR\n",
    "    sp(Snowplow Pipeline)\n",
    "    stream[/Stream processing/]\n",
    "    signals(Signals)\n",
    "\n",
    "    sp --> stream\n",
    "    stream --> signals\n",
    "```\n",
    "\n",
    "---"
   ]
  },
  {
   "cell_type": "code",
   "execution_count": 6,
   "metadata": {},
   "outputs": [],
   "source": [
    "from snowplow_signals import Signals\n",
    "from dotenv import load_dotenv\n",
    "import os\n",
    "\n",
    "load_dotenv()\n",
    "# You will need valid BDP credentials (API key, API key ID and org ID) for this to work.\n",
    "# Instructions on how to generate these here: https://docs.snowplow.io/docs/account-management/managing-console-api-authentication/#credentials-ui-v3\n",
    "sp_signals = Signals(\n",
    "    api_url=\"http://localhost:8008\", # Local Signals API endpoint\n",
    "    api_key=os.environ[\"SNOWPLOW_API_KEY\"],\n",
    "    api_key_id=os.environ[\"SNOWPLOW_API_KEY_ID\"],\n",
    "    org_id=os.environ[\"SNOWPLOW_ORG_ID\"],\n",
    ")"
   ]
  },
  {
   "cell_type": "markdown",
   "metadata": {},
   "source": [
    "### Define a new attribute\n",
    "\n",
    "This block creates a single attribute definition including the logic how it should be calculated (it's filters and aggregation).\n",
    "\n",
    "The attribute calculates the number of add to cart ecommerce events."
   ]
  },
  {
   "cell_type": "code",
   "execution_count": 215,
   "metadata": {},
   "outputs": [],
   "source": [
    "from snowplow_signals import (\n",
    "    Attribute,\n",
    "    Criteria,\n",
    "    Criterion,\n",
    "    Event,\n",
    ")\n",
    "\n",
    "variant_click_count = Attribute(\n",
    "    name=\"variant_click_count\",\n",
    "    type=\"int32\",\n",
    "    events=[\n",
    "        Event(\n",
    "            vendor=\"com.snowplowanalytics.snowplow\",\n",
    "            name=\"button_click\",\n",
    "            version=\"1-0-0\",\n",
    "        )\n",
    "    ],\n",
    "    aggregation=\"counter\",\n",
    "    property=\"unstruct_event_com_snowplowanalytics_snowplow_button_click_1:label\",\n",
    "    criteria=Criteria(\n",
    "        all=[\n",
    "            Criterion(\n",
    "                property=\"event_name\",\n",
    "                operator=\"=\",\n",
    "                value=\"button_click\",\n",
    "            ),\n",
    "        ],\n",
    "    ),\n",
    ")\n",
    "\n",
    "# a dummy event is defined for this attribute as we only use this for storing an intervention value so we don't want signals to write a value to it\n",
    "intervention_feature = Attribute(\n",
    "    name=\"intervention_example\",\n",
    "    type=\"string\",\n",
    "    events=[\n",
    "        Event(\n",
    "            vendor=\"doesnotexist.com\",\n",
    "            name=\"anything\",\n",
    "            version=\"1-0-0\"\n",
    "        )\n",
    "    ],\n",
    "    criteria=Criteria(\n",
    "        all=[\n",
    "            Criterion(\n",
    "                property=\"page_urlpath\",\n",
    "                operator=\"=\",\n",
    "                value=\"foobar\",\n",
    "            ),\n",
    "        ]\n",
    "    ),\n",
    "    aggregation=\"first\"\n",
    ")"
   ]
  },
  {
   "cell_type": "markdown",
   "metadata": {},
   "source": [
    "### Wrapping the attribute in a view\n",
    "\n",
    "All attributes need to be included in views that can be considered as \"tables\" of attributes.\n",
    "\n",
    "Views are immutable and versioned."
   ]
  },
  {
   "cell_type": "code",
   "execution_count": null,
   "metadata": {},
   "outputs": [],
   "source": [
    "from snowplow_signals import View, session_entity, Service\n",
    "\n",
    "view = View(\n",
    "    name=\"demo_attributes\",\n",
    "    version=1,\n",
    "    entity=session_entity,\n",
    "    attributes=[\n",
    "        variant_click_count, # a count of link click events\n",
    "        intervention_feature # stores the result of our intervention once triggered\n",
    "    ],\n",
    "    online=True\n",
    ")\n",
    "\n",
    "service = Service(\n",
    "    name=\"demo_service\",\n",
    "    description='Service for demoing signals and inteventions',\n",
    "    views=[view]\n",
    ")"
   ]
  },
  {
   "cell_type": "markdown",
   "metadata": {},
   "source": [
    "### Applying the view to Signals\n",
    "\n",
    "The following block pushes the view definition to the Signals API and makes it available for processing."
   ]
  },
  {
   "cell_type": "code",
   "execution_count": 217,
   "metadata": {},
   "outputs": [
    {
     "name": "stdout",
     "output_type": "stream",
     "text": [
      "2 objects applied\n"
     ]
    }
   ],
   "source": [
    "# Ensure Snowplow Local and Personalization API are running otherwise this will fail\n",
    "applied = sp_signals.apply([view, service])\n",
    "print(f\"{len(applied)} objects applied\")\n",
    "# If successful you should see two objects applied (one for the view and one for the service)."
   ]
  },
  {
   "cell_type": "code",
   "execution_count": null,
   "metadata": {},
   "outputs": [
    {
     "name": "stdout",
     "output_type": "stream",
     "text": [
      "{'domain_sessionid': ['78348adf-ff98-4448-b8d4-8d20c4ae42ab'], 'variant_click_count': [7], 'intervention_example': ['what is up pussycat']}\n"
     ]
    }
   ],
   "source": [
    "# check the values\n",
    "\n",
    "sid = '' # enter your domain_sessionid here from the Shopify store (https://quickstart-b5d55a69.myshopify.com/) to check the value\n",
    "# of your features ahead of time\n",
    "import requests\n",
    "r = requests.post(\n",
    "    'http://localhost:6566/get-online-features', # Personalization API must be up. Auth not required!\n",
    "    json = {\n",
    "        'entities': {\n",
    "            'session': [sid]\n",
    "        },\n",
    "        'feature_service': 'demo_service'\n",
    "    }\n",
    ")\n",
    "# print out a prettier version\n",
    "features = {}\n",
    "feature_names = r.json()['metadata']['feature_names']\n",
    "feature_values = r.json()['results']\n",
    "for i, feature in enumerate(feature_names):\n",
    "    features[feature] = feature_values[i]['values']\n",
    "print(features)"
   ]
  },
  {
   "cell_type": "code",
   "execution_count": null,
   "metadata": {},
   "outputs": [
    {
     "name": "stdout",
     "output_type": "stream",
     "text": [
      "200\n"
     ]
    }
   ],
   "source": [
    "# now let's create an intervention using the API\n",
    "# this intervention will set an attribute for `intervention_example` if the intervention is triggered\n",
    "\n",
    "number_clicks = 2 # trigger the intervention when variants clicks is this value or greater\n",
    "\n",
    "intervention = {\n",
    "    'name': 'unsure_clicker3',\n",
    "    'version': 1,\n",
    "    'method': 'set_attribute',\n",
    "    'context': {\n",
    "        'attribute': 'demo_attributes:intervention_example',\n",
    "        'value': 'demo message',\n",
    "        'clear_history': True\n",
    "    },\n",
    "    'criteria': {'operator': '>=', 'value': number_clicks, 'attribute': 'demo_attributes:variant_click_count'},\n",
    "}\n",
    "\n",
    "r = requests.post(\n",
    "    'http://localhost:8008/api/v1/registry/interventions/',\n",
    "    json=intervention,\n",
    "    headers={\n",
    "        'Content-Type': 'application/json',\n",
    "        'Authorization': 'Bearer NA' # Auth not required\n",
    "    }\n",
    ")\n",
    "print(r.status_code) # ensure the code printed out is 200"
   ]
  },
  {
   "cell_type": "markdown",
   "metadata": {},
   "source": [
    "Go to the Shopify store for this product ( https://quickstart-b5d55a69.myshopify.com/ ) and click around the sizes until you see at least [number_clicks] button_click events fire in the Chrome Inspector.\n",
    "\n",
    "Wait 5-10 seconds and you should see the intervention pop up on the site."
   ]
  },
  {
   "cell_type": "markdown",
   "metadata": {},
   "source": []
  }
 ],
 "metadata": {
  "kernelspec": {
   "display_name": "signals-notebooks-5jc5WEI8-py3.12",
   "language": "python",
   "name": "python3"
  },
  "language_info": {
   "codemirror_mode": {
    "name": "ipython",
    "version": 3
   },
   "file_extension": ".py",
   "mimetype": "text/x-python",
   "name": "python",
   "nbconvert_exporter": "python",
   "pygments_lexer": "ipython3",
   "version": "3.12.2"
  }
 },
 "nbformat": 4,
 "nbformat_minor": 2
}
