{
 "cells": [
  {
   "cell_type": "markdown",
   "metadata": {},
   "source": [
    "## Stream attributes from Web events using Signals\n",
    "\n",
    "This notebook creates a new view using the SDK, tests it on the atomic events table and applies."
   ]
  },
  {
   "cell_type": "markdown",
   "metadata": {},
   "source": [
    "### Flow of data\n",
    "\n",
    "```mermaid\n",
    "flowchart LR\n",
    "    sp(Snowplow Pipeline)\n",
    "    stream[/Stream processing/]\n",
    "    signals(Signals)\n",
    "\n",
    "    sp --> stream\n",
    "    stream --> signals\n",
    "```\n",
    "\n",
    "---"
   ]
  },
  {
   "cell_type": "code",
   "execution_count": null,
   "metadata": {},
   "outputs": [],
   "source": [
    "from snowplow_signals import Signals\n",
    "from dotenv import load_dotenv\n",
    "import os\n",
    "\n",
    "load_dotenv()\n",
    "\n",
    "sp_signals = Signals(\n",
    "    api_url=os.environ[\"API_URL\"],\n",
    "    api_key=os.environ[\"API_KEY\"],\n",
    "    api_key_id=os.environ[\"API_KEY_ID\"],\n",
    "    org_id=os.environ[\"ORG_ID\"],\n",
    ")"
   ]
  },
  {
   "cell_type": "markdown",
   "metadata": {},
   "source": [
    "### Define a new attribute\n",
    "\n",
    "This block creates a single attribute definition including the logic how it should be calculated (it's filters and aggregation).\n",
    "\n",
    "The attribute calculates the number of add to cart ecommerce events."
   ]
  },
  {
   "cell_type": "code",
   "execution_count": null,
   "metadata": {},
   "outputs": [],
   "source": [
    "from snowplow_signals import (\n",
    "    Attribute,\n",
    "    Event,\n",
    ")\n",
    "\n",
    "count_page_pings = Attribute(\n",
    "    name=\"count_page_pings\",\n",
    "    type=\"int32\",\n",
    "    events=[\n",
    "        Event(\n",
    "            vendor=\"com.snowplowanalytics.snowplow\",\n",
    "            name=\"page_ping\",\n",
    "            version=\"1-0-0\",\n",
    "        )\n",
    "    ],\n",
    "    aggregation=\"counter\",\n",
    ")\n",
    "\n",
    "visited_pages = Attribute(\n",
    "    name=\"visited_pages\",\n",
    "    type=\"string_list\",\n",
    "    events=[\n",
    "        Event(\n",
    "            vendor=\"com.snowplowanalytics.snowplow\",\n",
    "            name=\"page_view\",\n",
    "            version=\"1-0-0\",\n",
    "        )\n",
    "    ],\n",
    "    aggregation=\"unique_list\",\n",
    "    property=\"page_title\",\n",
    ")"
   ]
  },
  {
   "cell_type": "markdown",
   "metadata": {},
   "source": [
    "### Wrapping the attribute in a view\n",
    "\n",
    "All attributes need to be included in views that can be considered as \"tables\" of attributes.\n",
    "\n",
    "Views are immutable and versioned."
   ]
  },
  {
   "cell_type": "code",
   "execution_count": null,
   "metadata": {},
   "outputs": [],
   "source": [
    "from snowplow_signals import View, session_entity\n",
    "\n",
    "view = View(\n",
    "    name=\"my_web_attributes\",\n",
    "    version=1,\n",
    "    entity=session_entity,\n",
    "    attributes=[\n",
    "        count_page_pings,\n",
    "        visited_pages,\n",
    "    ],\n",
    ")"
   ]
  },
  {
   "cell_type": "markdown",
   "metadata": {},
   "source": [
    "### Testing the view\n",
    "\n",
    "Execute the view on the last one hour of data from the atomic events table to verify that it works correctly."
   ]
  },
  {
   "cell_type": "code",
   "execution_count": null,
   "metadata": {},
   "outputs": [],
   "source": [
    "data = sp_signals.test(\n",
    "    view=view,\n",
    "    app_ids=[\"website\"],\n",
    ")\n",
    "data"
   ]
  },
  {
   "cell_type": "markdown",
   "metadata": {},
   "source": [
    "### Applying the view to Signals\n",
    "\n",
    "The following block pushes the view definition to the Signals API and makes it available for processing."
   ]
  },
  {
   "cell_type": "code",
   "execution_count": null,
   "metadata": {},
   "outputs": [],
   "source": [
    "applied = sp_signals.apply([view])\n",
    "print(f\"{len(applied)} objects applied\")"
   ]
  }
 ],
 "metadata": {
  "kernelspec": {
   "display_name": "signals-notebooks-ISVnSzaa-py3.13",
   "language": "python",
   "name": "python3"
  },
  "language_info": {
   "codemirror_mode": {
    "name": "ipython",
    "version": 3
   },
   "file_extension": ".py",
   "mimetype": "text/x-python",
   "name": "python",
   "nbconvert_exporter": "python",
   "pygments_lexer": "ipython3",
   "version": "3.13.2"
  }
 },
 "nbformat": 4,
 "nbformat_minor": 2
}
