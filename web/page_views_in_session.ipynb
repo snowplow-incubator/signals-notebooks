{
 "cells": [
  {
   "cell_type": "markdown",
   "metadata": {},
   "source": [
    "## Stream features from Web events using Signals\n",
    "\n",
    "This notebook creates a new feature view using the SDK, tests it on the atomic events table and applies."
   ]
  },
  {
   "cell_type": "markdown",
   "metadata": {},
   "source": [
    "### Flow of data\n",
    "\n",
    "```mermaid\n",
    "flowchart LR\n",
    "    sp(Snowplow Pipeline)\n",
    "    stream[/Stream processing/]\n",
    "    signals(Signals)\n",
    "\n",
    "    sp --> stream\n",
    "    stream --> signals\n",
    "```\n",
    "\n",
    "---"
   ]
  },
  {
   "cell_type": "code",
   "execution_count": 10,
   "metadata": {},
   "outputs": [],
   "source": [
    "from snowplow_signals import Signals\n",
    "\n",
    "sp_signals = Signals()"
   ]
  },
  {
   "cell_type": "markdown",
   "metadata": {},
   "source": [
    "### Define a new feature\n",
    "\n",
    "This block creates a single feature definition including the logic how it should be calculated (it's filters and aggregation).\n",
    "\n",
    "The feature calculates the number of add to cart ecommerce events."
   ]
  },
  {
   "cell_type": "code",
   "execution_count": null,
   "metadata": {},
   "outputs": [],
   "source": [
    "from snowplow_signals import (\n",
    "    Feature,\n",
    ")\n",
    "\n",
    "count_page_views_feature = Feature(\n",
    "    name=\"num_page_views\",\n",
    "    dtype=\"INT32\",\n",
    "    events=[\n",
    "        \"iglu:com.snowplowanalytics.snowplow/page_view/jsonschema/1-0-0\"\n",
    "    ],\n",
    "    type=\"counter\",\n",
    ")"
   ]
  },
  {
   "cell_type": "markdown",
   "metadata": {},
   "source": [
    "### Wrapping the feature in a feature view\n",
    "\n",
    "All features need to be included in feature views that can be considered as \"tables\" of features.\n",
    "\n",
    "Feature views are immutable and versioned."
   ]
  },
  {
   "cell_type": "code",
   "execution_count": 12,
   "metadata": {},
   "outputs": [],
   "source": [
    "from snowplow_signals import FeatureView, session_entity\n",
    "\n",
    "feature_view = FeatureView(\n",
    "    name=\"web_features\",\n",
    "    version=1,\n",
    "    entities=[\n",
    "        session_entity,\n",
    "    ],\n",
    "    features=[\n",
    "        count_page_views_feature,\n",
    "    ],\n",
    ")"
   ]
  },
  {
   "cell_type": "markdown",
   "metadata": {},
   "source": [
    "### Applying the feature view to Signals\n",
    "\n",
    "The following block pushes the feature view definition to the Signals API and makes it available for processing."
   ]
  },
  {
   "cell_type": "code",
   "execution_count": 15,
   "metadata": {},
   "outputs": [
    {
     "data": {
      "text/plain": [
       "ApplyResponse(status='applied')"
      ]
     },
     "execution_count": 15,
     "metadata": {},
     "output_type": "execute_result"
    }
   ],
   "source": [
    "sp_signals.apply([feature_view])"
   ]
  }
 ],
 "metadata": {
  "kernelspec": {
   "display_name": "snowplow-signals-DQcgxUvJ-py3.13",
   "language": "python",
   "name": "python3"
  },
  "language_info": {
   "codemirror_mode": {
    "name": "ipython",
    "version": 3
   },
   "file_extension": ".py",
   "mimetype": "text/x-python",
   "name": "python",
   "nbconvert_exporter": "python",
   "pygments_lexer": "ipython3",
   "version": "3.13.2"
  }
 },
 "nbformat": 4,
 "nbformat_minor": 2
}
