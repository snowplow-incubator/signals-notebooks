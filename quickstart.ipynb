{
  "cells": [
    {
      "cell_type": "markdown",
      "metadata": {
        "id": "T2OjckITGitQ"
      },
      "source": [
        "# Introduction\n",
        "\n",
        "Welcome to the Snowplow Signals Quickstart! This guide will walk you through the steps to set up and use Snowplow Signals to define attributes, create views, and retrieve user attributes. By the end of this guide, you'll have a working setup to personalize your applications using Snowplow Signals.\n",
        "\n",
        "1. Install and Set Up the SDK: Get started with the Snowplow Signals SDK.\n",
        "2. Define an Attribute: Learn how to define user behavior attributes.\n",
        "3. Create and Test a View: Combine attributes into a view and test it.\n",
        "4. Deploy a View: Make your view live in the Signals API.\n",
        "5. Retrieve Attributes: Fetch user attributes from the API.\n"
      ]
    },
    {
      "cell_type": "markdown",
      "metadata": {
        "id": "F0A6a-YwGQqI"
      },
      "source": [
        "# Installation and setup"
      ]
    },
    {
      "cell_type": "code",
      "execution_count": null,
      "metadata": {
        "colab": {
          "base_uri": "https://localhost:8080/"
        },
        "collapsed": true,
        "id": "mUxTIMF5GVp6",
        "outputId": "ee937234-1d38-44c3-c0ad-a313f7ed9317"
      },
      "outputs": [],
      "source": [
        "%pip install snowplow-signals"
      ]
    },
    {
      "cell_type": "markdown",
      "metadata": {
        "id": "mrL4Q0nXIbnD"
      },
      "source": [
        "To connect to your deployment, initialize the Signals object with your API credentials:\n"
      ]
    },
    {
      "cell_type": "code",
      "execution_count": null,
      "metadata": {
        "id": "oh8EYO2JInHk"
      },
      "outputs": [],
      "source": [
        "from snowplow_signals import Signals\n",
        "from google.colab import userdata\n",
        "\n",
        "signals = Signals(\n",
        "    api_url=userdata.get('SP_API_URL'),\n",
        "    api_key=userdata.get('SP_API_KEY'),\n",
        "    api_key_id=userdata.get('SP_API_KEY_ID'),\n",
        "    org_id=userdata.get('SP_ORG_ID'),\n",
        ")\n"
      ]
    },
    {
      "cell_type": "markdown",
      "metadata": {
        "id": "SBKYWAWNU7Rm"
      },
      "source": [
        "# Define an Attribute\n",
        "An Attribute represents a specific fact about a user's behavior. For example, you can define an attribute to count the number of page_view events a user has made."
      ]
    },
    {
      "cell_type": "code",
      "execution_count": null,
      "metadata": {
        "id": "UIh8n_GnU_V9"
      },
      "outputs": [],
      "source": [
        "from snowplow_signals import Attribute, Event\n",
        "\n",
        "page_view_count = Attribute(\n",
        "    name=\"page_view_count\",\n",
        "    type=\"int32\",\n",
        "    events=[\n",
        "        Event(\n",
        "            vendor=\"com.snowplowanalytics.snowplow\",\n",
        "            name=\"page_view\",\n",
        "            version=\"1-0-0\",\n",
        "        )\n",
        "    ],\n",
        "    aggregation=\"counter\"\n",
        ")"
      ]
    },
    {
      "cell_type": "markdown",
      "metadata": {
        "id": "VTaqK5FWVE9l"
      },
      "source": [
        "You can also create more complex attributes by adding Criteria to filter events. For example:"
      ]
    },
    {
      "cell_type": "code",
      "execution_count": null,
      "metadata": {
        "id": "-DldR9LxVGbQ"
      },
      "outputs": [],
      "source": [
        "from snowplow_signals import Attribute, Event, Criteria, Criterion\n",
        "\n",
        "products_added_to_cart_attribute = Attribute(\n",
        "    name=\"products_added_to_cart\",\n",
        "    type=\"string_list\",\n",
        "    events=[\n",
        "        Event(\n",
        "            vendor=\"com.snowplowanalytics.snowplow.ecommerce\",\n",
        "            name=\"snowplow_ecommerce_action\",\n",
        "            version=\"1-0-2\",\n",
        "        )\n",
        "    ],\n",
        "    aggregation=\"unique_list\",\n",
        "    property=\"contexts_com_snowplowanalytics_snowplow_ecommerce_product_1[0].name\",\n",
        "    filter=Criteria(\n",
        "        all=[\n",
        "            Criterion(\n",
        "                property=\"unstruct_event_com_snowplowanalytics_snowplow_ecommerce_snowplow_ecommerce_action_1:type\",\n",
        "                operator=\"=\",\n",
        "                value=\"add_to_cart\",\n",
        "            ),\n",
        "        ],\n",
        "    ),\n",
        ")"
      ]
    },
    {
      "cell_type": "markdown",
      "metadata": {
        "id": "85Tve_qzVOPO"
      },
      "source": [
        "# Create and test a View\n",
        "A View is a collection of attributes that share a common entity (e.g., session or user). Here's how to create a view with the attributes we defined earlier:\n",
        "\n"
      ]
    },
    {
      "cell_type": "code",
      "execution_count": null,
      "metadata": {
        "id": "Z9hQDAioVRN8"
      },
      "outputs": [],
      "source": [
        "from snowplow_signals import StreamView, domain_sessionid\n",
        "\n",
        "my_attribute_view = StreamView(\n",
        "    name=\"my_attribute_view\",\n",
        "    version=1,\n",
        "    entity=domain_sessionid,\n",
        "    attributes=[\n",
        "        products_added_to_cart_attribute,\n",
        "    ],\n",
        "    owner=\"user@company.com\",\n",
        ")"
      ]
    },
    {
      "cell_type": "markdown",
      "metadata": {
        "id": "WDkiGw2yVfNF"
      },
      "source": [
        "Before deploying the view, you can test it on the Atomic events table from the past hour:\n",
        "\n"
      ]
    },
    {
      "cell_type": "markdown",
      "metadata": {
        "id": "H2mv4ASAXyQt"
      },
      "source": []
    },
    {
      "cell_type": "code",
      "execution_count": null,
      "metadata": {
        "colab": {
          "base_uri": "https://localhost:8080/",
          "height": 363
        },
        "id": "rLF8vwCYVf4O",
        "outputId": "cea20cb9-8436-4548-b7ce-914eb0c935cc"
      },
      "outputs": [],
      "source": [
        "data = signals.test(\n",
        "    view=my_attribute_view,\n",
        ")\n",
        "data"
      ]
    },
    {
      "cell_type": "markdown",
      "metadata": {
        "id": "zHMsh_nKqirh"
      },
      "source": [
        "# Deploy a View to Signals\n",
        "Once you're satisfied with the View, deploy it to the API using the apply method:\n",
        "\n"
      ]
    },
    {
      "cell_type": "code",
      "execution_count": null,
      "metadata": {
        "colab": {
          "base_uri": "https://localhost:8080/"
        },
        "id": "sgGqzE83XL0z",
        "outputId": "a1306bff-65a9-4f90-f0e7-7c04872ee5b5"
      },
      "outputs": [],
      "source": [
        "signals.apply([my_attribute_view])\n"
      ]
    },
    {
      "cell_type": "markdown",
      "metadata": {
        "id": "g7OY-d0Yqpbt"
      },
      "source": [
        "This makes the View live, and events will start being processed based on the defined attributes."
      ]
    },
    {
      "cell_type": "markdown",
      "metadata": {
        "id": "DKbEir31q1C2"
      },
      "source": [
        "# Retreive Attributes from Signals\n",
        "Now that events are being processed, you can retrieve user attributes from the API:"
      ]
    },
    {
      "cell_type": "code",
      "execution_count": null,
      "metadata": {
        "colab": {
          "base_uri": "https://localhost:8080/",
          "height": 89
        },
        "id": "nG-idH8JqnUP",
        "outputId": "d712c202-9859-4dd4-9019-6e4306019159"
      },
      "outputs": [],
      "source": [
        "response = my_attribute_view.get_attributes(\n",
        "    signals=sp_signals,\n",
        "    identifier=\"abc-123\",\n",
        ")\n",
        "\n",
        "response"
      ]
    }
  ],
  "metadata": {
    "colab": {
      "provenance": [],
      "toc_visible": true
    },
    "kernelspec": {
      "display_name": "Python 3",
      "name": "python3"
    },
    "language_info": {
      "name": "python"
    }
  },
  "nbformat": 4,
  "nbformat_minor": 0
}
