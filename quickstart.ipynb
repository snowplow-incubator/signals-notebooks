{
  "cells": [
    {
      "cell_type": "markdown",
      "metadata": {
        "id": "T2OjckITGitQ"
      },
      "source": [
        "# Set up Signals for real-time calculation\n",
        "\n",
        "Welcome to the [Snowplow Signals](https://docs.snowplow.io/docs/signals/) Quick Start [tutorial](https://docs.snowplow.io/tutorials/signals-quickstart/start).\n",
        "\n",
        "This notebook is intended to be used as part of the tutorial. It's hosted in Google Colab so you won't need to configure anything locally.\n",
        "\n",
        "Check out the tutorial pages to follow along.\n"
      ]
    },
    {
      "cell_type": "markdown",
      "metadata": {
        "id": "F0A6a-YwGQqI"
      },
      "source": [
        "## Install and connect to Signals"
      ]
    },
    {
      "cell_type": "code",
      "execution_count": null,
      "metadata": {
        "colab": {
          "base_uri": "https://localhost:8080/"
        },
        "collapsed": true,
        "id": "mUxTIMF5GVp6",
        "outputId": "ee937234-1d38-44c3-c0ad-a313f7ed9317"
      },
      "outputs": [],
      "source": [
        "%pip install snowplow-signals"
      ]
    },
    {
      "cell_type": "markdown",
      "metadata": {
        "id": "mrL4Q0nXIbnD"
      },
      "source": [
        "To connect to your deployment, initialize the Signals object with your API credentials:\n"
      ]
    },
    {
      "cell_type": "code",
      "execution_count": null,
      "metadata": {
        "id": "oh8EYO2JInHk"
      },
      "outputs": [],
      "source": [
        "from snowplow_signals import Signals\n",
        "from google.colab import userdata\n",
        "\n",
        "signals = Signals(\n",
        "    api_url=userdata.get('SP_API_URL'),\n",
        "    api_key=userdata.get('SP_API_KEY'),\n",
        "    api_key_id=userdata.get('SP_API_KEY_ID'),\n",
        "    org_id=userdata.get('SP_ORG_ID'),\n",
        ")"
      ]
    },
    {
      "cell_type": "markdown",
      "metadata": {
        "id": "SBKYWAWNU7Rm"
      },
      "source": [
        "## Define what attributes to calculate\n",
        "### Define attributes"
      ]
    },
    {
      "cell_type": "code",
      "execution_count": null,
      "metadata": {
        "id": "UIh8n_GnU_V9"
      },
      "outputs": [],
      "source": [
        "from snowplow_signals import Attribute, Event, Criteria, Criterion, AtomicProperty\n",
        "from datetime import timedelta\n",
        "\n",
        "page_view_count = Attribute(\n",
        "    name=\"page_view_count\",\n",
        "    description=\"Page views in the last 5 minutes.\",\n",
        "    type=\"int32\",\n",
        "    events=[\n",
        "        Event(\n",
        "            vendor=\"com.snowplowanalytics.snowplow\",\n",
        "            name=\"page_view\",\n",
        "            version=\"1-0-0\",\n",
        "        )\n",
        "    ],\n",
        "    aggregation=\"counter\",\n",
        "    period=timedelta(minutes=5),\n",
        ")\n",
        "\n",
        "most_recent_browser = Attribute(\n",
        "    name=\"most_recent_browser\",\n",
        "    description=\"The last browser name tracked.\",\n",
        "    type=\"string\",\n",
        "    events=[\n",
        "        Event(\n",
        "            vendor=\"com.snowplowanalytics.snowplow\",\n",
        "            name=\"page_view\",\n",
        "            version=\"1-0-0\",\n",
        "        )\n",
        "    ],\n",
        "    aggregation=\"last\",\n",
        "    property=\"contexts_nl_basjes_yauaa_context_1[0].agentName\",\n",
        ")\n",
        "\n",
        "first_referrer = Attribute(\n",
        "    name=\"first_referrer\",\n",
        "    description=\"The first referrer tracked.\",\n",
        "    type=\"string\",\n",
        "    events=[\n",
        "        Event(\n",
        "            vendor=\"com.snowplowanalytics.snowplow\",\n",
        "            name=\"page_view\",\n",
        "            version=\"1-0-0\",\n",
        "        )\n",
        "    ],\n",
        "    aggregation=\"first\",\n",
        "    property=\"refr_urlhost\",\n",
        "    criteria=Criteria(\n",
        "        all=[\n",
        "            Criterion.neq(\n",
        "                AtomicProperty(name=\"page_referrer\"),\n",
        "                \"\"\n",
        "            )\n",
        "        ]\n",
        "    ),\n",
        "    default_value=None\n",
        ")"
      ]
    },
    {
      "cell_type": "markdown",
      "metadata": {
        "id": "85Tve_qzVOPO"
      },
      "source": [
        "### Define an attribute group\n",
        "Update the code to use your own email address before running."
      ]
    },
    {
      "cell_type": "code",
      "execution_count": null,
      "metadata": {
        "id": "Z9hQDAioVRN8"
      },
      "outputs": [],
      "source": [
        "from snowplow_signals import StreamAttributeGroup, domain_sessionid\n",
        "\n",
        "my_attribute_group = StreamAttributeGroup(\n",
        "    name=\"my_quickstart_attribute_group\",\n",
        "    version=1,\n",
        "    attribute_key=domain_sessionid,\n",
        "    owner=\"user@company.com\", # UPDATE THIS\n",
        "    attributes=[\n",
        "        page_view_count,\n",
        "        most_recent_browser,\n",
        "        first_referrer\n",
        "    ],\n",
        ")"
      ]
    },
    {
      "cell_type": "markdown",
      "metadata": {},
      "source": [
        "### Test the definitions"
      ]
    },
    {
      "cell_type": "code",
      "execution_count": null,
      "metadata": {
        "colab": {
          "base_uri": "https://localhost:8080/",
          "height": 363
        },
        "id": "rLF8vwCYVf4O",
        "outputId": "cea20cb9-8436-4548-b7ce-914eb0c935cc"
      },
      "outputs": [],
      "source": [
        "data = signals.test(\n",
        "    attribute_group=my_attribute_group,\n",
        ")\n",
        "data"
      ]
    },
    {
      "cell_type": "markdown",
      "metadata": {},
      "source": [
        "### Define a service\n",
        "Update the code to use your own email address before running."
      ]
    },
    {
      "cell_type": "code",
      "execution_count": null,
      "metadata": {},
      "outputs": [],
      "source": [
        "from snowplow_signals import Service\n",
        "\n",
        "my_service = Service(\n",
        "    name='my_quickstart_service',\n",
        "    owner=\"user@company.com\", # UPDATE THIS\n",
        "    attribute_groups=[my_attribute_group]\n",
        ")"
      ]
    },
    {
      "cell_type": "markdown",
      "metadata": {
        "id": "zHMsh_nKqirh"
      },
      "source": [
        "## Deploy configuration"
      ]
    },
    {
      "cell_type": "code",
      "execution_count": null,
      "metadata": {
        "colab": {
          "base_uri": "https://localhost:8080/"
        },
        "id": "sgGqzE83XL0z",
        "outputId": "a1306bff-65a9-4f90-f0e7-7c04872ee5b5"
      },
      "outputs": [],
      "source": [
        "sp_signals.publish([my_attribute_group, my_service])"
      ]
    },
    {
      "cell_type": "markdown",
      "metadata": {
        "id": "g7OY-d0Yqpbt"
      },
      "source": [
        "The configuration is now live."
      ]
    },
    {
      "cell_type": "markdown",
      "metadata": {
        "id": "DKbEir31q1C2"
      },
      "source": [
        "## Retrieve calculated attributes\n",
        "\n",
        "Follow the tutorial instructions to find your current session ID from outgoing web events. Provide it as `identifier` below, to retrieve attributes that Signals has just calculated about your session."
      ]
    },
    {
      "cell_type": "code",
      "execution_count": null,
      "metadata": {
        "colab": {
          "base_uri": "https://localhost:8080/",
          "height": 89
        },
        "id": "nG-idH8JqnUP",
        "outputId": "d712c202-9859-4dd4-9019-6e4306019159"
      },
      "outputs": [],
      "source": [
        "response = sp_signals.get_service_attributes(\n",
        "    source=\"my_quickstart_service\",\n",
        "    attribute_key=\"domain_sessionid\",\n",
        "    identifier=\"d99f6db1-7b28-46ca-a3ef-f0aace99ed86\", # UPDATE THIS\n",
        ")\n",
        "\n",
        "df=response.to_dataframe()\n",
        "df"
      ]
    }
  ],
  "metadata": {
    "colab": {
      "provenance": [],
      "toc_visible": true
    },
    "kernelspec": {
      "display_name": "Python 3",
      "name": "python3"
    },
    "language_info": {
      "name": "python"
    }
  },
  "nbformat": 4,
  "nbformat_minor": 0
}
