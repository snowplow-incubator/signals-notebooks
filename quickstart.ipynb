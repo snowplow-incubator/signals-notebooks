{
  "cells": [
    {
      "cell_type": "markdown",
      "metadata": {
        "id": "T2OjckITGitQ"
      },
      "source": [
        "# Set up Signals for real-time calculation\n",
        "\n",
        "Welcome to the [Snowplow Signals](https://docs.snowplow.io/docs/signals/) Quick Start [tutorial](https://docs.snowplow.io/tutorials/signals-quickstart/start).\n",
        "\n",
        "This notebook is intended to be used for the final part of the tutorial, allowing you to explore attribute retrieval without having to integrate Signals into an application. It's hosted in Google Colab so you won't need to configure anything locally.\n",
        "\n",
        "It also shows how you'd go about defining attribute groups and services using the [Python SDK](https://github.com/snowplow-incubator/snowplow-signals-sdk), instead of using the UI, and why that's a bad idea.\n",
        "\n",
        "If you prefer to run the cells in one go with Run all, update your details in the required places first - they're marked with `UPDATE THIS`."
      ]
    },
    {
      "cell_type": "markdown",
      "metadata": {
        "id": "F0A6a-YwGQqI"
      },
      "source": [
        "## Install and connect to Signals\n",
        "\n",
        "Find your API credentials in [BDP Console](https://console.snowplowanalytics.com), on the **Signals** > **Overview** page. Add them to the Colab notebook secrets, using these names:\n",
        "  * Signals API URL -> `SP_API_URL`\n",
        "  * API key -> `SP_API_KEY`\n",
        "  * API key ID -> `SP_API_KEY_ID`\n",
        "  * Organization ID -> `SP_ORG_ID`\n",
        "\n",
        "Then, run the following cell to install the SDK."
      ]
    },
    {
      "cell_type": "code",
      "execution_count": null,
      "metadata": {
        "colab": {
          "base_uri": "https://localhost:8080/"
        },
        "collapsed": true,
        "id": "mUxTIMF5GVp6",
        "outputId": "ee937234-1d38-44c3-c0ad-a313f7ed9317"
      },
      "outputs": [],
      "source": [
        "%pip install snowplow-signals"
      ]
    },
    {
      "cell_type": "markdown",
      "metadata": {
        "id": "mrL4Q0nXIbnD"
      },
      "source": [
        "To connect to your deployment, initialize the Signals object with your API credentials:\n"
      ]
    },
    {
      "cell_type": "code",
      "execution_count": null,
      "metadata": {
        "id": "oh8EYO2JInHk"
      },
      "outputs": [],
      "source": [
        "from snowplow_signals import Signals\n",
        "from google.colab import userdata\n",
        "\n",
        "sp_signals = Signals(\n",
        "    api_url=userdata.get('SP_API_URL'),\n",
        "    api_key=userdata.get('SP_API_KEY'),\n",
        "    api_key_id=userdata.get('SP_API_KEY_ID'),\n",
        "    org_id=userdata.get('SP_ORG_ID'),\n",
        ")"
      ]
    },
    {
      "cell_type": "markdown",
      "metadata": {},
      "source": [
        "## Retrieve calculated attributes\n",
        "\n",
        "Follow the tutorial instructions to find your current session ID from outgoing web events. Provide it as `identifier` below, to retrieve attributes that Signals has just calculated about your session."
      ]
    },
    {
      "cell_type": "code",
      "execution_count": null,
      "metadata": {},
      "outputs": [],
      "source": [
        "response = sp_signals.get_service_attributes(\n",
        "    name=\"quickstart_service\",\n",
        "    attribute_key=\"domain_sessionid\",\n",
        "    identifier=\"d99f6db1-7b28-46ca-a3ef-f0aace99ed86\", # UPDATE THIS\n",
        ")\n",
        "\n",
        "df=response.to_dataframe()\n",
        "df"
      ]
    },
    {
      "cell_type": "markdown",
      "metadata": {},
      "source": [
        "To retrieve individual attributes rather than using a service, use the `get_attributes()` method."
      ]
    },
    {
      "cell_type": "code",
      "execution_count": null,
      "metadata": {},
      "outputs": [],
      "source": [
        "response = sp_signals.get_attributes(\n",
        "    name=\"quickstart_group\",\n",
        "    version=1,\n",
        "    attributes=[\"page_view_count\"],\n",
        "    attribute_key=\"domain_sessionid\",\n",
        "    identifiers=[\"472f97c1-eec1-45fe-b081-3ff695c30415\"]\n",
        ")\n",
        "\n",
        "df=response.to_dataframe()\n",
        "df"
      ]
    },
    {
      "cell_type": "markdown",
      "metadata": {},
      "source": [
        "## Defining attribute groups and services using the SDK\n",
        "\n",
        "We strongly recommend using the BDP Console to manage your Signals configuration.\n",
        "\n",
        "The following sections show how you'd use the Python SDK to define attribute groups and services. There's a high risk of mistakes in selecting the correct events and properties, in providing unique names, and in appropriately increasing the attribute group version as you evolve the definitions."
      ]
    },
    {
      "cell_type": "markdown",
      "metadata": {
        "id": "SBKYWAWNU7Rm"
      },
      "source": [
        "### Define what attributes to calculate\n",
        "\n",
        "In this tutorial you will define an attribute group containing three attributes based on page view events.\n",
        "\n",
        "#### Define attributes\n",
        "\n",
        "The first attribute counts the number of page view events within the last 15 minutes. It uses the `counter` aggregation. The time window is defined by the `period` parameter.\n",
        "\n",
        "The second attribute stores the last seen browser name (e.g. \"Safari\"), using the `last` aggregation. The `property` tells Signals where to look in the event for the value.\n",
        "\n",
        "Browser information is appended to every event by the [YAUAA enrichment](/docs/pipeline/enrichments/available-enrichments/yauaa-enrichment/) as an entity with schema URI `iglu:nl.basjes/yauaa_context/jsonschema/1-0-1`. Within the event payload, this URI becomes `contexts_nl_basjes_yauaa_context_1`. The `property` defined in this attribute uses the `agentName` field from the YAUAA entity. Note the `[0]` index to access the entity data.\n",
        "\n",
        "The third attribute stores the first seen referrer path, based on the `refr_urlhost` [atomic event property](/docs/fundamentals/canonical-event/#platform-specific-fields) and the `first` aggregation. By using a `criteria` filter, it's only calculated for page views where the referrer isn't an empty string. This is a trivial example just to demonstrate how to use filters."
      ]
    },
    {
      "cell_type": "code",
      "execution_count": null,
      "metadata": {
        "id": "UIh8n_GnU_V9"
      },
      "outputs": [],
      "source": [
        "from snowplow_signals import Attribute, Event, Criteria, Criterion\n",
        "from datetime import timedelta\n",
        "\n",
        "page_view_count = Attribute(\n",
        "    name=\"page_view_count\",\n",
        "    description=\"Page views in the last 15 minutes.\",\n",
        "    type=\"int32\",\n",
        "    events=[\n",
        "        Event(\n",
        "            vendor=\"com.snowplowanalytics.snowplow\",\n",
        "            name=\"page_view\",\n",
        "            version=\"1-0-0\",\n",
        "        )\n",
        "    ],\n",
        "    aggregation=\"counter\",\n",
        "    period=timedelta(minutes=15),\n",
        ")\n",
        "\n",
        "most_recent_browser = Attribute(\n",
        "    name=\"most_recent_browser\",\n",
        "    description=\"The last browser name tracked.\",\n",
        "    type=\"string\",\n",
        "    events=[\n",
        "        Event(\n",
        "            vendor=\"com.snowplowanalytics.snowplow\",\n",
        "            name=\"page_view\",\n",
        "            version=\"1-0-0\",\n",
        "        )\n",
        "    ],\n",
        "    aggregation=\"last\",\n",
        "    property=\"contexts_nl_basjes_yauaa_context_1[0].agentName\",\n",
        ")\n",
        "\n",
        "first_referrer = Attribute(\n",
        "    name=\"first_referrer\",\n",
        "    description=\"The first referrer tracked.\",\n",
        "    type=\"string\",\n",
        "    events=[\n",
        "        Event(\n",
        "            vendor=\"com.snowplowanalytics.snowplow\",\n",
        "            name=\"page_view\",\n",
        "            version=\"1-0-0\",\n",
        "        )\n",
        "    ],\n",
        "    aggregation=\"first\",\n",
        "    property=\"refr_urlhost\",\n",
        "    criteria=Criteria(\n",
        "        all=[\n",
        "            Criterion(\n",
        "                property=\"page_referrer\",\n",
        "                operator=\"!=\",\n",
        "                value=\"\"\n",
        "            )\n",
        "        ]\n",
        "    ),\n",
        "    default_value=None\n",
        ")"
      ]
    },
    {
      "cell_type": "markdown",
      "metadata": {
        "id": "85Tve_qzVOPO"
      },
      "source": [
        "#### Define an attribute group\n",
        "\n",
        "Single attribute definitions can't be published to Signals, as they don't make sense outside of their attribute group context.\n",
        "\n",
        "Because of the `domain_sessionid` attribute key, Signals will calculate these attributes as follows:\n",
        "* How many page views in the last 15 minutes for each session\n",
        "* The last seen browser name for each session\n",
        "* The first seen referrer for each session\n",
        "\n",
        "Update the code to use your own email address before running."
      ]
    },
    {
      "cell_type": "code",
      "execution_count": null,
      "metadata": {
        "id": "Z9hQDAioVRN8"
      },
      "outputs": [],
      "source": [
        "from snowplow_signals import StreamAttributeGroup, domain_sessionid\n",
        "\n",
        "my_attribute_group = StreamAttributeGroup(\n",
        "    name=\"quickstart_group_notebook\",\n",
        "    version=1,\n",
        "    attribute_key=domain_sessionid,\n",
        "    owner=\"user@company.com\", # UPDATE THIS\n",
        "    attributes=[\n",
        "        page_view_count,\n",
        "        most_recent_browser,\n",
        "        first_referrer\n",
        "    ],\n",
        ")"
      ]
    },
    {
      "cell_type": "markdown",
      "metadata": {},
      "source": [
        "#### Test the definitions\n",
        "\n",
        "Test the group definitions against events in your atomic event table for the last hour."
      ]
    },
    {
      "cell_type": "code",
      "execution_count": null,
      "metadata": {
        "colab": {
          "base_uri": "https://localhost:8080/",
          "height": 363
        },
        "id": "rLF8vwCYVf4O",
        "outputId": "cea20cb9-8436-4548-b7ce-914eb0c935cc"
      },
      "outputs": [],
      "source": [
        "data = sp_signals.test(\n",
        "    attribute_group=my_attribute_group,\n",
        ")\n",
        "data"
      ]
    },
    {
      "cell_type": "markdown",
      "metadata": {},
      "source": [
        "#### Define a service\n",
        "\n",
        "Services allow you to retrieve attributes in bulk, from multiple attribute groups.\n",
        "\n",
        "Update the code to use your own email address before running."
      ]
    },
    {
      "cell_type": "code",
      "execution_count": null,
      "metadata": {},
      "outputs": [],
      "source": [
        "from snowplow_signals import Service\n",
        "\n",
        "my_service = Service(\n",
        "    name='quickstart_service_notebook',\n",
        "    owner=\"user@company.com\", # UPDATE THIS\n",
        "    attribute_groups=[my_attribute_group]\n",
        ")"
      ]
    },
    {
      "cell_type": "markdown",
      "metadata": {
        "id": "zHMsh_nKqirh"
      },
      "source": [
        "### Deploy configuration\n",
        "\n",
        "Publish the attribute group and service to Signals. They'll go live immediately: Signals will start processing events from your real-time stream, and will populate your Profiles Store with computed attributes."
      ]
    },
    {
      "cell_type": "code",
      "execution_count": null,
      "metadata": {
        "colab": {
          "base_uri": "https://localhost:8080/"
        },
        "id": "sgGqzE83XL0z",
        "outputId": "a1306bff-65a9-4f90-f0e7-7c04872ee5b5"
      },
      "outputs": [],
      "source": [
        "sp_signals.publish([my_attribute_group, my_service])"
      ]
    }
  ],
  "metadata": {
    "colab": {
      "provenance": [],
      "toc_visible": true
    },
    "kernelspec": {
      "display_name": "Python 3",
      "name": "python3"
    },
    "language_info": {
      "name": "python"
    }
  },
  "nbformat": 4,
  "nbformat_minor": 0
}
